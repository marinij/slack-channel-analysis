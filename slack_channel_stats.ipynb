{
  "cells": [
    {
      "cell_type": "markdown",
      "metadata": {
        "vscode": {
          "languageId": "raw"
        }
      },
      "source": [
        "# Slack Channel Message Statistics\n",
        "\n",
        "This notebook analyzes messages from a specific Slack channel, providing various statistics and visualizations.\n",
        "\n",
        "## Prerequisites\n",
        "1. Slack Bot Token with appropriate permissions (`channels:history`, `channels:read`, `users:read`)\n",
        "2. Channel ID of the Slack channel you want to analyze"
      ]
    },
    {
      "cell_type": "code",
      "execution_count": 1,
      "metadata": {},
      "outputs": [],
      "source": [
        "# Import required libraries\n",
        "import os\n",
        "from datetime import datetime, timedelta\n",
        "import re\n",
        "\n",
        "# Data manipulation\n",
        "import pandas as pd\n",
        "\n",
        "# Slack SDK\n",
        "from slack_sdk import WebClient\n",
        "from slack_sdk.errors import SlackApiError\n",
        "\n",
        "# Visualization\n",
        "import matplotlib.pyplot as plt\n",
        "import seaborn as sns\n",
        "from wordcloud import WordCloud\n",
        "import plotly.express as px\n",
        "\n",
        "# Set up visualization style\n",
        "plt.style.use(\"seaborn-v0_8-darkgrid\")\n",
        "sns.set_palette(\"husl\")\n"
      ]
    },
    {
      "cell_type": "markdown",
      "metadata": {},
      "source": [
        "## Configuration\n",
        "\n",
        "Update the configuration below with your Slack bot token and channel ID.\n"
      ]
    },
    {
      "cell_type": "code",
      "execution_count": 2,
      "metadata": {},
      "outputs": [
        {
          "name": "stdout",
          "output_type": "stream",
          "text": [
            "Configuration set to analyze channel C080ECMGQ0M for the last 30 days\n"
          ]
        }
      ],
      "source": [
        "# Configuration\n",
        "SLACK_BOT_TOKEN = os.getenv(\"SLACK_BOT_TOKEN\")\n",
        "CHANNEL_ID = os.getenv(\"SLACK_CHANNEL_ID\")\n",
        "\n",
        "# Analysis settings\n",
        "DAYS_TO_ANALYZE = 30  # Number of days to look back\n",
        "TIMEZONE = \"UTC\"  # Adjust to your timezone\n",
        "\n",
        "print(\n",
        "    f\"Configuration set to analyze channel {CHANNEL_ID} for the last {DAYS_TO_ANALYZE} days\"\n",
        ")\n"
      ]
    },
    {
      "cell_type": "markdown",
      "metadata": {
        "vscode": {
          "languageId": "raw"
        }
      },
      "source": [
        "## Data Fetching\n",
        "\n",
        "This section fetches messages from the specified Slack channel.\n"
      ]
    },
    {
      "cell_type": "code",
      "execution_count": 3,
      "metadata": {},
      "outputs": [],
      "source": [
        "def fetch_channel_messages(client, channel_id, days_back=30):\n",
        "    \"\"\"\n",
        "    Fetch messages from a Slack channel for the specified number of days.\n",
        "    \"\"\"\n",
        "    # Calculate timestamp for days_back\n",
        "    oldest_timestamp = (datetime.now() - timedelta(days=days_back)).timestamp()\n",
        "\n",
        "    messages = []\n",
        "    cursor = None\n",
        "\n",
        "    try:\n",
        "        while True:\n",
        "            # Fetch messages with pagination\n",
        "            response = client.conversations_history(\n",
        "                channel=channel_id,\n",
        "                oldest=oldest_timestamp,\n",
        "                cursor=cursor,\n",
        "                limit=1000,  # Maximum allowed by Slack API\n",
        "            )\n",
        "\n",
        "            messages.extend(response[\"messages\"])\n",
        "\n",
        "            # Check if there are more messages\n",
        "            if not response.get(\"has_more\", False):\n",
        "                break\n",
        "\n",
        "            cursor = response[\"response_metadata\"][\"next_cursor\"]\n",
        "\n",
        "    except SlackApiError as e:\n",
        "        print(f\"Error fetching messages: {e.response['error']}\")\n",
        "        return []\n",
        "\n",
        "    print(f\"Fetched {len(messages)} messages from the last {days_back} days\")\n",
        "    return messages\n",
        "\n",
        "\n",
        "def get_user_info(client, user_id):\n",
        "    \"\"\"\n",
        "    Get user information from Slack.\n",
        "    \"\"\"\n",
        "    try:\n",
        "        response = client.users_info(user=user_id)\n",
        "        return response[\"user\"]\n",
        "    except SlackApiError as e:\n",
        "        print(f\"Error fetching user info for {user_id}: {e.response['error']}\")\n",
        "        return None\n",
        "\n",
        "\n",
        "def get_channel_info(client, channel_id):\n",
        "    \"\"\"\n",
        "    Get channel information from Slack.\n",
        "    \"\"\"\n",
        "    try:\n",
        "        response = client.conversations_info(channel=channel_id)\n",
        "        return response[\"channel\"]\n",
        "    except SlackApiError as e:\n",
        "        print(f\"Error fetching channel info: {e.response['error']}\")\n",
        "        return None\n"
      ]
    },
    {
      "cell_type": "code",
      "execution_count": 4,
      "metadata": {},
      "outputs": [
        {
          "name": "stdout",
          "output_type": "stream",
          "text": [
            "Testing Slack connection...\n",
            "✅ Connected to channel: #fun_pathfinder-veille-et-trashtalks\n",
            "Channel description: \n",
            "\n",
            "Fetching messages from the last 30 days...\n",
            "Fetched 67 messages from the last 30 days\n"
          ]
        }
      ],
      "source": [
        "# Initialize Slack client\n",
        "client = WebClient(token=SLACK_BOT_TOKEN)\n",
        "\n",
        "# Test connection and get channel info\n",
        "print(\"Testing Slack connection...\")\n",
        "channel_info = get_channel_info(client, CHANNEL_ID)\n",
        "if channel_info:\n",
        "    print(f\"✅ Connected to channel: #{channel_info['name']}\")\n",
        "    print(\n",
        "        f\"Channel description: {channel_info.get('purpose', {}).get('value', 'No description')}\"\n",
        "    )\n",
        "else:\n",
        "    print(\"❌ Failed to connect to channel. Please check your token and channel ID.\")\n",
        "\n",
        "# Fetch messages\n",
        "print(f\"\\nFetching messages from the last {DAYS_TO_ANALYZE} days...\")\n",
        "raw_messages = fetch_channel_messages(client, CHANNEL_ID, DAYS_TO_ANALYZE)\n"
      ]
    },
    {
      "cell_type": "markdown",
      "metadata": {
        "vscode": {
          "languageId": "raw"
        }
      },
      "source": [
        "## Data Processing\n",
        "\n",
        "Let's process the raw message data and create a structured DataFrame for analysis.\n"
      ]
    },
    {
      "cell_type": "code",
      "execution_count": 5,
      "metadata": {},
      "outputs": [
        {
          "name": "stdout",
          "output_type": "stream",
          "text": [
            "Processing messages...\n",
            "Processed 65 messages into DataFrame\n",
            "\n",
            "Dataset info:\n",
            "Date range: 2025-05-24 to 2025-06-23\n",
            "Unique users: 4\n",
            "Bot messages: 1\n",
            "Thread replies: 3\n"
          ]
        },
        {
          "data": {
            "text/html": [
              "<div>\n",
              "<style scoped>\n",
              "    .dataframe tbody tr th:only-of-type {\n",
              "        vertical-align: middle;\n",
              "    }\n",
              "\n",
              "    .dataframe tbody tr th {\n",
              "        vertical-align: top;\n",
              "    }\n",
              "\n",
              "    .dataframe thead th {\n",
              "        text-align: right;\n",
              "    }\n",
              "</style>\n",
              "<table border=\"1\" class=\"dataframe\">\n",
              "  <thead>\n",
              "    <tr style=\"text-align: right;\">\n",
              "      <th></th>\n",
              "      <th>timestamp</th>\n",
              "      <th>user_id</th>\n",
              "      <th>text</th>\n",
              "      <th>type</th>\n",
              "      <th>subtype</th>\n",
              "      <th>thread_ts</th>\n",
              "      <th>is_thread_reply</th>\n",
              "      <th>reactions</th>\n",
              "      <th>reply_count</th>\n",
              "      <th>datetime</th>\n",
              "      <th>...</th>\n",
              "      <th>day_of_week</th>\n",
              "      <th>real_name</th>\n",
              "      <th>display_name</th>\n",
              "      <th>is_bot</th>\n",
              "      <th>word_count</th>\n",
              "      <th>char_count</th>\n",
              "      <th>reaction_count</th>\n",
              "      <th>has_mentions</th>\n",
              "      <th>has_urls</th>\n",
              "      <th>has_emoji</th>\n",
              "    </tr>\n",
              "  </thead>\n",
              "  <tbody>\n",
              "    <tr>\n",
              "      <th>0</th>\n",
              "      <td>1.748448e+09</td>\n",
              "      <td>U0XK4NV1R</td>\n",
              "      <td>D'ailleurs Fred MCP (le formateur) nous parlai...</td>\n",
              "      <td>message</td>\n",
              "      <td>normal</td>\n",
              "      <td>None</td>\n",
              "      <td>False</td>\n",
              "      <td>[]</td>\n",
              "      <td>0</td>\n",
              "      <td>2025-05-28 18:07:13.754299</td>\n",
              "      <td>...</td>\n",
              "      <td>Wednesday</td>\n",
              "      <td>Romain Quilliot</td>\n",
              "      <td>romainjeff</td>\n",
              "      <td>False</td>\n",
              "      <td>46</td>\n",
              "      <td>292</td>\n",
              "      <td>0</td>\n",
              "      <td>True</td>\n",
              "      <td>True</td>\n",
              "      <td>True</td>\n",
              "    </tr>\n",
              "    <tr>\n",
              "      <th>1</th>\n",
              "      <td>1.748420e+09</td>\n",
              "      <td>U05F99L5UUT</td>\n",
              "      <td>Autre blog super intéressant sur l'usage de ag...</td>\n",
              "      <td>message</td>\n",
              "      <td>thread_broadcast</td>\n",
              "      <td>1748253394.098549</td>\n",
              "      <td>True</td>\n",
              "      <td>[]</td>\n",
              "      <td>0</td>\n",
              "      <td>2025-05-28 10:20:49.855589</td>\n",
              "      <td>...</td>\n",
              "      <td>Wednesday</td>\n",
              "      <td>Julien Marinica</td>\n",
              "      <td>Julien</td>\n",
              "      <td>False</td>\n",
              "      <td>10</td>\n",
              "      <td>144</td>\n",
              "      <td>0</td>\n",
              "      <td>False</td>\n",
              "      <td>True</td>\n",
              "      <td>False</td>\n",
              "    </tr>\n",
              "    <tr>\n",
              "      <th>2</th>\n",
              "      <td>1.748410e+09</td>\n",
              "      <td>U0J5GV9D5</td>\n",
              "      <td>&lt;https://youtu.be/5P-CMf3CR5A?feature=shared|h...</td>\n",
              "      <td>message</td>\n",
              "      <td>normal</td>\n",
              "      <td>None</td>\n",
              "      <td>False</td>\n",
              "      <td>[{'name': 'face_exhaling', 'users': ['U0757U39...</td>\n",
              "      <td>0</td>\n",
              "      <td>2025-05-28 07:31:06.327519</td>\n",
              "      <td>...</td>\n",
              "      <td>Wednesday</td>\n",
              "      <td>Antoine Lépée</td>\n",
              "      <td>antoine</td>\n",
              "      <td>False</td>\n",
              "      <td>1</td>\n",
              "      <td>89</td>\n",
              "      <td>1</td>\n",
              "      <td>False</td>\n",
              "      <td>True</td>\n",
              "      <td>True</td>\n",
              "    </tr>\n",
              "    <tr>\n",
              "      <th>3</th>\n",
              "      <td>1.748383e+09</td>\n",
              "      <td>U0XK4NV1R</td>\n",
              "      <td>&lt;https://x.com/bradmenezes/status/192741463863...</td>\n",
              "      <td>message</td>\n",
              "      <td>normal</td>\n",
              "      <td>1748383031.726659</td>\n",
              "      <td>False</td>\n",
              "      <td>[]</td>\n",
              "      <td>1</td>\n",
              "      <td>2025-05-27 23:57:11.726659</td>\n",
              "      <td>...</td>\n",
              "      <td>Tuesday</td>\n",
              "      <td>Romain Quilliot</td>\n",
              "      <td>romainjeff</td>\n",
              "      <td>False</td>\n",
              "      <td>1</td>\n",
              "      <td>119</td>\n",
              "      <td>0</td>\n",
              "      <td>False</td>\n",
              "      <td>True</td>\n",
              "      <td>True</td>\n",
              "    </tr>\n",
              "    <tr>\n",
              "      <th>4</th>\n",
              "      <td>1.748362e+09</td>\n",
              "      <td>U0XK4NV1R</td>\n",
              "      <td>Un notebook qui utilise Document OCR de Mistral</td>\n",
              "      <td>message</td>\n",
              "      <td>normal</td>\n",
              "      <td>1748361522.984829</td>\n",
              "      <td>False</td>\n",
              "      <td>[]</td>\n",
              "      <td>6</td>\n",
              "      <td>2025-05-27 17:58:42.984829</td>\n",
              "      <td>...</td>\n",
              "      <td>Tuesday</td>\n",
              "      <td>Romain Quilliot</td>\n",
              "      <td>romainjeff</td>\n",
              "      <td>False</td>\n",
              "      <td>8</td>\n",
              "      <td>47</td>\n",
              "      <td>0</td>\n",
              "      <td>False</td>\n",
              "      <td>False</td>\n",
              "      <td>False</td>\n",
              "    </tr>\n",
              "  </tbody>\n",
              "</table>\n",
              "<p>5 rows × 22 columns</p>\n",
              "</div>"
            ],
            "text/plain": [
              "      timestamp      user_id  \\\n",
              "0  1.748448e+09    U0XK4NV1R   \n",
              "1  1.748420e+09  U05F99L5UUT   \n",
              "2  1.748410e+09    U0J5GV9D5   \n",
              "3  1.748383e+09    U0XK4NV1R   \n",
              "4  1.748362e+09    U0XK4NV1R   \n",
              "\n",
              "                                                text     type  \\\n",
              "0  D'ailleurs Fred MCP (le formateur) nous parlai...  message   \n",
              "1  Autre blog super intéressant sur l'usage de ag...  message   \n",
              "2  <https://youtu.be/5P-CMf3CR5A?feature=shared|h...  message   \n",
              "3  <https://x.com/bradmenezes/status/192741463863...  message   \n",
              "4    Un notebook qui utilise Document OCR de Mistral  message   \n",
              "\n",
              "            subtype          thread_ts  is_thread_reply  \\\n",
              "0            normal               None            False   \n",
              "1  thread_broadcast  1748253394.098549             True   \n",
              "2            normal               None            False   \n",
              "3            normal  1748383031.726659            False   \n",
              "4            normal  1748361522.984829            False   \n",
              "\n",
              "                                           reactions  reply_count  \\\n",
              "0                                                 []            0   \n",
              "1                                                 []            0   \n",
              "2  [{'name': 'face_exhaling', 'users': ['U0757U39...            0   \n",
              "3                                                 []            1   \n",
              "4                                                 []            6   \n",
              "\n",
              "                    datetime  ... day_of_week        real_name display_name  \\\n",
              "0 2025-05-28 18:07:13.754299  ...   Wednesday  Romain Quilliot   romainjeff   \n",
              "1 2025-05-28 10:20:49.855589  ...   Wednesday  Julien Marinica       Julien   \n",
              "2 2025-05-28 07:31:06.327519  ...   Wednesday    Antoine Lépée      antoine   \n",
              "3 2025-05-27 23:57:11.726659  ...     Tuesday  Romain Quilliot   romainjeff   \n",
              "4 2025-05-27 17:58:42.984829  ...     Tuesday  Romain Quilliot   romainjeff   \n",
              "\n",
              "  is_bot word_count  char_count  reaction_count  has_mentions  has_urls  \\\n",
              "0  False         46         292               0          True      True   \n",
              "1  False         10         144               0         False      True   \n",
              "2  False          1          89               1         False      True   \n",
              "3  False          1         119               0         False      True   \n",
              "4  False          8          47               0         False     False   \n",
              "\n",
              "   has_emoji  \n",
              "0       True  \n",
              "1      False  \n",
              "2       True  \n",
              "3       True  \n",
              "4      False  \n",
              "\n",
              "[5 rows x 22 columns]"
            ]
          },
          "execution_count": 5,
          "metadata": {},
          "output_type": "execute_result"
        }
      ],
      "source": [
        "def process_messages(messages, client):\n",
        "    \"\"\"\n",
        "    Process raw messages into a structured format.\n",
        "    \"\"\"\n",
        "    processed_messages = []\n",
        "    user_cache = {}  # Cache user info to avoid repeated API calls\n",
        "\n",
        "    for msg in messages:\n",
        "        # Skip messages without text (like file uploads)\n",
        "        if \"text\" not in msg or not msg[\"text\"].strip():\n",
        "            continue\n",
        "\n",
        "        # Extract basic message info\n",
        "        message_data = {\n",
        "            \"timestamp\": float(msg[\"ts\"]),\n",
        "            \"user_id\": msg.get(\"user\", \"unknown\"),\n",
        "            \"text\": msg[\"text\"],\n",
        "            \"type\": msg.get(\"type\", \"message\"),\n",
        "            \"subtype\": msg.get(\"subtype\", \"normal\"),\n",
        "            \"thread_ts\": msg.get(\"thread_ts\"),\n",
        "            \"is_thread_reply\": \"thread_ts\" in msg\n",
        "            and msg.get(\"thread_ts\") != msg.get(\"ts\"),\n",
        "            \"reactions\": msg.get(\"reactions\", []),\n",
        "            \"reply_count\": msg.get(\"reply_count\", 0),\n",
        "        }\n",
        "\n",
        "        # Convert timestamp to datetime\n",
        "        message_data[\"datetime\"] = datetime.fromtimestamp(message_data[\"timestamp\"])\n",
        "        message_data[\"date\"] = message_data[\"datetime\"].date()\n",
        "        message_data[\"hour\"] = message_data[\"datetime\"].hour\n",
        "        message_data[\"day_of_week\"] = message_data[\"datetime\"].strftime(\"%A\")\n",
        "\n",
        "        # Get user info (with caching)\n",
        "        user_id = message_data[\"user_id\"]\n",
        "        if user_id not in user_cache and user_id != \"unknown\":\n",
        "            user_info = get_user_info(client, user_id)\n",
        "            if user_info:\n",
        "                user_cache[user_id] = {\n",
        "                    \"real_name\": user_info.get(\n",
        "                        \"real_name\", user_info.get(\"name\", \"Unknown\")\n",
        "                    ),\n",
        "                    \"display_name\": user_info.get(\"profile\", {}).get(\n",
        "                        \"display_name\", \"\"\n",
        "                    ),\n",
        "                    \"is_bot\": user_info.get(\"is_bot\", False),\n",
        "                }\n",
        "            else:\n",
        "                user_cache[user_id] = {\n",
        "                    \"real_name\": \"Unknown\",\n",
        "                    \"display_name\": \"\",\n",
        "                    \"is_bot\": False,\n",
        "                }\n",
        "\n",
        "        # Add user info to message\n",
        "        if user_id in user_cache:\n",
        "            message_data.update(user_cache[user_id])\n",
        "        else:\n",
        "            message_data.update(\n",
        "                {\"real_name\": \"Unknown\", \"display_name\": \"\", \"is_bot\": False}\n",
        "            )\n",
        "\n",
        "        # Calculate message metrics\n",
        "        message_data[\"word_count\"] = len(message_data[\"text\"].split())\n",
        "        message_data[\"char_count\"] = len(message_data[\"text\"])\n",
        "        message_data[\"reaction_count\"] = sum(\n",
        "            reaction.get(\"count\", 0) for reaction in message_data[\"reactions\"]\n",
        "        )\n",
        "\n",
        "        # Check for mentions, URLs, etc.\n",
        "        message_data[\"has_mentions\"] = \"<@\" in message_data[\"text\"]\n",
        "        message_data[\"has_urls\"] = \"http\" in message_data[\"text\"]\n",
        "        message_data[\"has_emoji\"] = (\n",
        "            \":\" in message_data[\"text\"] and message_data[\"text\"].count(\":\") >= 2\n",
        "        )\n",
        "\n",
        "        processed_messages.append(message_data)\n",
        "\n",
        "    return processed_messages\n",
        "\n",
        "\n",
        "# Process the messages\n",
        "print(\"Processing messages...\")\n",
        "processed_messages = process_messages(raw_messages, client)\n",
        "\n",
        "# Create DataFrame\n",
        "df = pd.DataFrame(processed_messages)\n",
        "print(f\"Processed {len(df)} messages into DataFrame\")\n",
        "\n",
        "# Display basic info about the dataset\n",
        "print(\"\\nDataset info:\")\n",
        "print(f\"Date range: {df['date'].min()} to {df['date'].max()}\")\n",
        "print(f\"Unique users: {df['user_id'].nunique()}\")\n",
        "print(f\"Bot messages: {df['is_bot'].sum()}\")\n",
        "print(f\"Thread replies: {df['is_thread_reply'].sum()}\")\n",
        "\n",
        "# Show first few rows\n",
        "df.head()\n"
      ]
    },
    {
      "cell_type": "markdown",
      "metadata": {
        "vscode": {
          "languageId": "raw"
        }
      },
      "source": [
        "## Statistical Analysis\n",
        "\n",
        "Now let's perform various statistical analyses on the message data.\n"
      ]
    },
    {
      "cell_type": "code",
      "execution_count": 6,
      "metadata": {},
      "outputs": [
        {
          "name": "stdout",
          "output_type": "stream",
          "text": [
            "=== BASIC CHANNEL STATISTICS ===\n",
            "\n",
            "📊 Total messages: 65\n",
            "👥 Unique users: 4\n",
            "📅 Date range: 31 days\n",
            "📈 Average messages per day: 2.1\n",
            "👤 Average messages per user: 16.2\n",
            "\n",
            "📝 CONTENT STATISTICS:\n",
            "Average word count: 12.3\n",
            "Average character count: 153.4\n",
            "Longest message: 764 characters\n",
            "Total words written: 800\n",
            "\n",
            "💬 ENGAGEMENT STATISTICS:\n",
            "Messages with reactions: 46 (70.8%)\n",
            "Total reactions: 92\n",
            "Thread replies: 3 (4.6%)\n",
            "Messages with mentions: 5 (7.7%)\n",
            "Messages with URLs: 45 (69.2%)\n",
            "\n",
            "🤖 BOT vs HUMAN:\n",
            "Human messages: 64 (98.5%)\n",
            "Bot messages: 1 (1.5%)\n"
          ]
        }
      ],
      "source": [
        "# Basic Statistics\n",
        "print(\"=== BASIC CHANNEL STATISTICS ===\\n\")\n",
        "\n",
        "# Overall stats\n",
        "total_messages = len(df)\n",
        "unique_users = df[\"user_id\"].nunique()\n",
        "date_range = (df[\"date\"].max() - df[\"date\"].min()).days + 1\n",
        "avg_messages_per_day = total_messages / date_range\n",
        "avg_messages_per_user = total_messages / unique_users\n",
        "\n",
        "print(f\"📊 Total messages: {total_messages:,}\")\n",
        "print(f\"👥 Unique users: {unique_users}\")\n",
        "print(f\"📅 Date range: {date_range} days\")\n",
        "print(f\"📈 Average messages per day: {avg_messages_per_day:.1f}\")\n",
        "print(f\"👤 Average messages per user: {avg_messages_per_user:.1f}\")\n",
        "\n",
        "# Message content stats\n",
        "print(\"\\n📝 CONTENT STATISTICS:\")\n",
        "print(f\"Average word count: {df['word_count'].mean():.1f}\")\n",
        "print(f\"Average character count: {df['char_count'].mean():.1f}\")\n",
        "print(f\"Longest message: {df['char_count'].max()} characters\")\n",
        "print(f\"Total words written: {df['word_count'].sum():,}\")\n",
        "\n",
        "# Engagement stats\n",
        "print(\"\\n💬 ENGAGEMENT STATISTICS:\")\n",
        "print(\n",
        "    f\"Messages with reactions: {(df['reaction_count'] > 0).sum()} ({(df['reaction_count'] > 0).mean() * 100:.1f}%)\"\n",
        ")\n",
        "print(f\"Total reactions: {df['reaction_count'].sum()}\")\n",
        "print(\n",
        "    f\"Thread replies: {df['is_thread_reply'].sum()} ({df['is_thread_reply'].mean() * 100:.1f}%)\"\n",
        ")\n",
        "print(\n",
        "    f\"Messages with mentions: {df['has_mentions'].sum()} ({df['has_mentions'].mean() * 100:.1f}%)\"\n",
        ")\n",
        "print(\n",
        "    f\"Messages with URLs: {df['has_urls'].sum()} ({df['has_urls'].mean() * 100:.1f}%)\"\n",
        ")\n",
        "\n",
        "# Bot vs human stats\n",
        "human_messages = df[~df[\"is_bot\"]]\n",
        "bot_messages = df[df[\"is_bot\"]]\n",
        "print(\"\\n🤖 BOT vs HUMAN:\")\n",
        "print(\n",
        "    f\"Human messages: {len(human_messages)} ({len(human_messages) / len(df) * 100:.1f}%)\"\n",
        ")\n",
        "print(f\"Bot messages: {len(bot_messages)} ({len(bot_messages) / len(df) * 100:.1f}%)\")\n"
      ]
    },
    {
      "cell_type": "markdown",
      "metadata": {
        "vscode": {
          "languageId": "raw"
        }
      },
      "source": [
        "### Activity Over Time\n"
      ]
    },
    {
      "cell_type": "code",
      "execution_count": 7,
      "metadata": {},
      "outputs": [
        {
          "data": {
            "image/png": "[encoded data removed]",
            "text/plain": [
              "<Figure size 1500x1000 with 4 Axes>"
            ]
          },
          "metadata": {},
          "output_type": "display_data"
        }
      ],
      "source": [
        "# Messages per day\n",
        "daily_counts = df.groupby(\"date\").size().reset_index(name=\"message_count\")\n",
        "\n",
        "fig, axes = plt.subplots(2, 2, figsize=(15, 10))\n",
        "\n",
        "# Daily message volume\n",
        "axes[0, 0].plot(daily_counts[\"date\"], daily_counts[\"message_count\"], linewidth=2)\n",
        "axes[0, 0].set_title(\"Messages per Day\")\n",
        "axes[0, 0].set_xlabel(\"Date\")\n",
        "axes[0, 0].set_ylabel(\"Number of Messages\")\n",
        "axes[0, 0].tick_params(axis=\"x\", rotation=45)\n",
        "\n",
        "# Messages by hour of day\n",
        "hourly_counts = df.groupby(\"hour\").size()\n",
        "axes[0, 1].bar(hourly_counts.index, hourly_counts.values)\n",
        "axes[0, 1].set_title(\"Messages by Hour of Day\")\n",
        "axes[0, 1].set_xlabel(\"Hour (24h format)\")\n",
        "axes[0, 1].set_ylabel(\"Number of Messages\")\n",
        "\n",
        "# Messages by day of week\n",
        "day_order = [\n",
        "    \"Monday\",\n",
        "    \"Tuesday\",\n",
        "    \"Wednesday\",\n",
        "    \"Thursday\",\n",
        "    \"Friday\",\n",
        "    \"Saturday\",\n",
        "    \"Sunday\",\n",
        "]\n",
        "day_counts = df.groupby(\"day_of_week\").size().reindex(day_order)\n",
        "axes[1, 0].bar(range(len(day_counts)), day_counts.values)\n",
        "axes[1, 0].set_title(\"Messages by Day of Week\")\n",
        "axes[1, 0].set_xlabel(\"Day of Week\")\n",
        "axes[1, 0].set_ylabel(\"Number of Messages\")\n",
        "axes[1, 0].set_xticks(range(len(day_counts)))\n",
        "axes[1, 0].set_xticklabels([day[:3] for day in day_order])\n",
        "\n",
        "# Message length distribution\n",
        "axes[1, 1].hist(df[\"word_count\"], bins=50, alpha=0.7, edgecolor=\"black\")\n",
        "axes[1, 1].set_title(\"Message Length Distribution\")\n",
        "axes[1, 1].set_xlabel(\"Word Count\")\n",
        "axes[1, 1].set_ylabel(\"Frequency\")\n",
        "axes[1, 1].axvline(\n",
        "    df[\"word_count\"].mean(),\n",
        "    color=\"red\",\n",
        "    linestyle=\"--\",\n",
        "    label=f\"Mean: {df['word_count'].mean():.1f} words\",\n",
        ")\n",
        "axes[1, 1].legend()\n",
        "\n",
        "plt.tight_layout()\n",
        "plt.show()\n"
      ]
    },
    {
      "cell_type": "markdown",
      "metadata": {
        "vscode": {
          "languageId": "raw"
        }
      },
      "source": [
        "### User Activity Analysis\n"
      ]
    },
    {
      "cell_type": "code",
      "execution_count": 8,
      "metadata": {},
      "outputs": [
        {
          "name": "stdout",
          "output_type": "stream",
          "text": [
            "=== TOP 10 MOST ACTIVE USERS ===\n",
            "                             Messages  Total_Words  Avg_Words_per_Message  Total_Reactions  Total_Characters\n",
            "user_id     real_name                                                                                       \n",
            "U0XK4NV1R   Romain Quilliot        37          362                   9.78               60              4262\n",
            "U05F99L5UUT Julien Marinica        23          396                  17.22               30              5388\n",
            "U0J5GV9D5   Antoine Lépée           4           37                   9.25                2               287\n"
          ]
        },
        {
          "data": {
            "image/png": "[encoded data removed]",
            "text/plain": [
              "<Figure size 1500x1000 with 4 Axes>"
            ]
          },
          "metadata": {},
          "output_type": "display_data"
        }
      ],
      "source": [
        "# User activity analysis (excluding bots)\n",
        "human_df = df[~df[\"is_bot\"]].copy()\n",
        "\n",
        "# Top 10 most active users\n",
        "user_stats = (\n",
        "    human_df.groupby([\"user_id\", \"real_name\"])\n",
        "    .agg(\n",
        "        {\n",
        "            \"text\": \"count\",\n",
        "            \"word_count\": [\"sum\", \"mean\"],\n",
        "            \"reaction_count\": \"sum\",\n",
        "            \"char_count\": \"sum\",\n",
        "        }\n",
        "    )\n",
        "    .round(2)\n",
        ")\n",
        "\n",
        "user_stats.columns = [\n",
        "    \"Messages\",\n",
        "    \"Total_Words\",\n",
        "    \"Avg_Words_per_Message\",\n",
        "    \"Total_Reactions\",\n",
        "    \"Total_Characters\",\n",
        "]\n",
        "user_stats = user_stats.sort_values(\"Messages\", ascending=False)\n",
        "\n",
        "print(\"=== TOP 10 MOST ACTIVE USERS ===\")\n",
        "print(user_stats.head(10).to_string())\n",
        "\n",
        "# Visualizations for user activity\n",
        "fig, axes = plt.subplots(2, 2, figsize=(15, 10))\n",
        "\n",
        "# Top 10 users by message count\n",
        "top_10_users = user_stats.head(10)\n",
        "axes[0, 0].barh(range(len(top_10_users)), top_10_users[\"Messages\"])\n",
        "axes[0, 0].set_yticks(range(len(top_10_users)))\n",
        "axes[0, 0].set_yticklabels(\n",
        "    [name[1][:20] for name in top_10_users.index]\n",
        ")  # Truncate long names\n",
        "axes[0, 0].set_xlabel(\"Number of Messages\")\n",
        "axes[0, 0].set_title(\"Top 10 Most Active Users\")\n",
        "axes[0, 0].invert_yaxis()\n",
        "\n",
        "# User message count distribution\n",
        "axes[0, 1].hist(user_stats[\"Messages\"], bins=20, alpha=0.7, edgecolor=\"black\")\n",
        "axes[0, 1].set_xlabel(\"Messages per User\")\n",
        "axes[0, 1].set_ylabel(\"Number of Users\")\n",
        "axes[0, 1].set_title(\"Distribution of User Activity\")\n",
        "axes[0, 1].axvline(\n",
        "    user_stats[\"Messages\"].mean(),\n",
        "    color=\"red\",\n",
        "    linestyle=\"--\",\n",
        "    label=f\"Mean: {user_stats['Messages'].mean():.1f}\",\n",
        ")\n",
        "axes[0, 1].legend()\n",
        "\n",
        "# Top users by total reactions received\n",
        "top_reactions = user_stats.sort_values(\"Total_Reactions\", ascending=False).head(10)\n",
        "axes[1, 0].barh(range(len(top_reactions)), top_reactions[\"Total_Reactions\"])\n",
        "axes[1, 0].set_yticks(range(len(top_reactions)))\n",
        "axes[1, 0].set_yticklabels([name[1][:20] for name in top_reactions.index])\n",
        "axes[1, 0].set_xlabel(\"Total Reactions Received\")\n",
        "axes[1, 0].set_title(\"Top 10 Users by Reactions Received\")\n",
        "axes[1, 0].invert_yaxis()\n",
        "\n",
        "# Average words per message by user (top 10 by message count)\n",
        "axes[1, 1].bar(range(len(top_10_users)), top_10_users[\"Avg_Words_per_Message\"])\n",
        "axes[1, 1].set_xticks(range(len(top_10_users)))\n",
        "axes[1, 1].set_xticklabels([name[1][:10] for name in top_10_users.index], rotation=45)\n",
        "axes[1, 1].set_ylabel(\"Average Words per Message\")\n",
        "axes[1, 1].set_title(\"Message Verbosity (Top 10 Users)\")\n",
        "\n",
        "plt.tight_layout()\n",
        "plt.show()\n"
      ]
    },
    {
      "cell_type": "markdown",
      "metadata": {
        "vscode": {
          "languageId": "raw"
        }
      },
      "source": [
        "### Engagement and Content Analysis\n"
      ]
    },
    {
      "cell_type": "code",
      "execution_count": 9,
      "metadata": {},
      "outputs": [
        {
          "name": "stdout",
          "output_type": "stream",
          "text": [
            "=== ENGAGEMENT ANALYSIS ===\n",
            "Messages with reactions: 46 out of 65 (70.8%)\n",
            "Average reactions per engaging message: 2.00\n",
            "Most reacted message: 8 reactions\n",
            "\n",
            "=== TOP 5 MOST REACTED MESSAGES ===\n",
            "\n",
            "👤 Romain Quilliot (2025-06-11 12:18)\n",
            "❤️ 8 reactions\n",
            "💬 13mn de réflexion d'o3 PRO pour ça\n",
            "\n",
            "à sa décharge, il a tout fait en SVG car pas d'outils de gen d'i...\n",
            "\n",
            "👤 Romain Quilliot (2025-06-16 19:26)\n",
            "❤️ 6 reactions\n",
            "💬 ahaha Simone qui m’envoie ça, ça m’a terminé\n",
            "\n",
            "👤 Romain Quilliot (2025-06-05 15:00)\n",
            "❤️ 5 reactions\n",
            "💬 ça va y a pas beaucoup de content à générer :joy:\n",
            "\n",
            "👤 Romain Quilliot (2025-06-04 18:57)\n",
            "❤️ 5 reactions\n",
            "💬 Moi à 19h :\n",
            "\n",
            "👤 Julien Marinica (2025-06-18 22:46)\n",
            "❤️ 4 reactions\n",
            "💬 <https://ai.google.dev/gemini-api/docs/google-search|https://ai.google.dev/gemini-api/docs/google-se...\n",
            "\n",
            "=== GENERATING WORD CLOUD ===\n"
          ]
        },
        {
          "data": {
            "image/png": "[encoded data removed]",
            "text/plain": [
              "<Figure size 1200x600 with 1 Axes>"
            ]
          },
          "metadata": {},
          "output_type": "display_data"
        },
        {
          "name": "stdout",
          "output_type": "stream",
          "text": [
            "\n",
            "=== THREAD ANALYSIS ===\n",
            "Thread replies: 3 (4.6% of all messages)\n",
            "Average replies per thread: 1.0\n",
            "Longest thread: 1.0 replies\n",
            "Total threads: 3\n"
          ]
        },
        {
          "data": {
            "image/png": "[encoded data removed]",
            "text/plain": [
              "<Figure size 1500x500 with 2 Axes>"
            ]
          },
          "metadata": {},
          "output_type": "display_data"
        }
      ],
      "source": [
        "# Engagement Analysis\n",
        "engaged_messages = df[df[\"reaction_count\"] > 0]\n",
        "\n",
        "print(\"=== ENGAGEMENT ANALYSIS ===\")\n",
        "print(\n",
        "    f\"Messages with reactions: {len(engaged_messages)} out of {len(df)} ({len(engaged_messages) / len(df) * 100:.1f}%)\"\n",
        ")\n",
        "print(\n",
        "    f\"Average reactions per engaging message: {engaged_messages['reaction_count'].mean():.2f}\"\n",
        ")\n",
        "print(f\"Most reacted message: {engaged_messages['reaction_count'].max()} reactions\")\n",
        "\n",
        "# Top reacted messages\n",
        "print(\"\\n=== TOP 5 MOST REACTED MESSAGES ===\")\n",
        "top_reacted = df.nlargest(5, \"reaction_count\")[\n",
        "    [\"real_name\", \"text\", \"reaction_count\", \"datetime\"]\n",
        "]\n",
        "for idx, row in top_reacted.iterrows():\n",
        "    print(f\"\\n👤 {row['real_name']} ({row['datetime'].strftime('%Y-%m-%d %H:%M')})\")\n",
        "    print(f\"❤️ {row['reaction_count']} reactions\")\n",
        "    print(f\"💬 {row['text'][:100]}{'...' if len(row['text']) > 100 else ''}\")\n",
        "\n",
        "# Create word cloud\n",
        "print(\"\\n=== GENERATING WORD CLOUD ===\")\n",
        "\n",
        "# Combine all messages into one text\n",
        "all_text = \" \".join(df[\"text\"].astype(str))\n",
        "\n",
        "# Clean text for word cloud (remove slack-specific formatting)\n",
        "clean_text = re.sub(r\"<@\\w+>\", \"\", all_text)  # Remove mentions\n",
        "clean_text = re.sub(r\"<#\\w+\\|[^>]+>\", \"\", clean_text)  # Remove channel links\n",
        "clean_text = re.sub(r\"<http[^>]+>\", \"\", clean_text)  # Remove URLs\n",
        "clean_text = re.sub(r\":[a-zA-Z0-9_+-]+:\", \"\", clean_text)  # Remove emoji codes\n",
        "\n",
        "# Generate word cloud\n",
        "try:\n",
        "    wordcloud = WordCloud(\n",
        "        width=800,\n",
        "        height=400,\n",
        "        background_color=\"white\",\n",
        "        max_words=100,\n",
        "        colormap=\"viridis\",\n",
        "    ).generate(clean_text)\n",
        "\n",
        "    plt.figure(figsize=(12, 6))\n",
        "    plt.imshow(wordcloud, interpolation=\"bilinear\")\n",
        "    plt.axis(\"off\")\n",
        "    plt.title(\"Most Common Words in Channel\", fontsize=16)\n",
        "    plt.tight_layout()\n",
        "    plt.show()\n",
        "except Exception as e:\n",
        "    print(f\"Could not generate word cloud: {e}\")\n",
        "\n",
        "# Thread analysis\n",
        "thread_messages = df[df[\"is_thread_reply\"]]\n",
        "print(\"\\n=== THREAD ANALYSIS ===\")\n",
        "print(\n",
        "    f\"Thread replies: {len(thread_messages)} ({len(thread_messages) / len(df) * 100:.1f}% of all messages)\"\n",
        ")\n",
        "\n",
        "if len(thread_messages) > 0:\n",
        "    thread_stats = thread_messages.groupby(\"thread_ts\").size().describe()\n",
        "    print(f\"Average replies per thread: {thread_stats['mean']:.1f}\")\n",
        "    print(f\"Longest thread: {thread_stats['max']} replies\")\n",
        "    print(f\"Total threads: {thread_messages['thread_ts'].nunique()}\")\n",
        "\n",
        "# Time-based engagement patterns\n",
        "fig, (ax1, ax2) = plt.subplots(1, 2, figsize=(15, 5))\n",
        "\n",
        "# Engagement by hour\n",
        "hourly_engagement = (\n",
        "    df.groupby(\"hour\")\n",
        "    .agg({\"reaction_count\": \"mean\", \"text\": \"count\"})\n",
        "    .rename(columns={\"text\": \"message_count\"})\n",
        ")\n",
        "\n",
        "ax1.bar(hourly_engagement.index, hourly_engagement[\"reaction_count\"])\n",
        "ax1.set_title(\"Average Reactions per Message by Hour\")\n",
        "ax1.set_xlabel(\"Hour of Day\")\n",
        "ax1.set_ylabel(\"Average Reactions\")\n",
        "\n",
        "# Engagement by day of week\n",
        "day_engagement = (\n",
        "    df.groupby(\"day_of_week\")\n",
        "    .agg({\"reaction_count\": \"mean\", \"text\": \"count\"})\n",
        "    .reindex(day_order)\n",
        "    .rename(columns={\"text\": \"message_count\"})\n",
        ")\n",
        "\n",
        "ax2.bar(range(len(day_engagement)), day_engagement[\"reaction_count\"])\n",
        "ax2.set_title(\"Average Reactions per Message by Day\")\n",
        "ax2.set_xlabel(\"Day of Week\")\n",
        "ax2.set_ylabel(\"Average Reactions\")\n",
        "ax2.set_xticks(range(len(day_engagement)))\n",
        "ax2.set_xticklabels([day[:3] for day in day_order])\n",
        "\n",
        "plt.tight_layout()\n",
        "plt.show()\n"
      ]
    },
    {
      "cell_type": "markdown",
      "metadata": {
        "vscode": {
          "languageId": "raw"
        }
      },
      "source": [
        "### Interactive Dashboard\n",
        "\n",
        "Let's create some interactive visualizations using Plotly.\n"
      ]
    },
    {
      "cell_type": "code",
      "execution_count": 11,
      "metadata": {},
      "outputs": [
        {
          "data": {
            "application/vnd.plotly.v1+json": {
              "config": {
                "plotlyServerURL": "https://plot.ly"
              },
              "data": [
                {
                  "customdata": [
                    [
                      "Saturday"
                    ],
                    [
                      "Monday"
                    ],
                    [
                      "Tuesday"
                    ],
                    [
                      "Wednesday"
                    ],
                    [
                      "Thursday"
                    ],
                    [
                      "Saturday"
                    ],
                    [
                      "Tuesday"
                    ],
                    [
                      "Wednesday"
                    ],
                    [
                      "Thursday"
                    ],
                    [
                      "Friday"
                    ],
                    [
                      "Saturday"
                    ],
                    [
                      "Monday"
                    ],
                    [
                      "Tuesday"
                    ],
                    [
                      "Wednesday"
                    ],
                    [
                      "Thursday"
                    ],
                    [
                      "Friday"
                    ],
                    [
                      "Saturday"
                    ],
                    [
                      "Monday"
                    ],
                    [
                      "Tuesday"
                    ],
                    [
                      "Wednesday"
                    ],
                    [
                      "Thursday"
                    ],
                    [
                      "Friday"
                    ],
                    [
                      "Saturday"
                    ],
                    [
                      "Monday"
                    ]
                  ],
                  "hovertemplate": "Date=%{x}<br>Number of Messages=%{y}<br>weekday=%{customdata[0]}<extra></extra>",
                  "legendgroup": "",
                  "line": {
                    "color": "#636efa",
                    "dash": "solid"
                  },
                  "marker": {
                    "symbol": "circle"
                  },
                  "mode": "lines",
                  "name": "",
                  "orientation": "v",
                  "showlegend": false,
                  "type": "scatter",
                  "x": [
                    "2025-05-24",
                    "2025-05-26",
                    "2025-05-27",
                    "2025-05-28",
                    "2025-05-29",
                    "2025-05-31",
                    "2025-06-03",
                    "2025-06-04",
                    "2025-06-05",
                    "2025-06-06",
                    "2025-06-07",
                    "2025-06-09",
                    "2025-06-10",
                    "2025-06-11",
                    "2025-06-12",
                    "2025-06-13",
                    "2025-06-14",
                    "2025-06-16",
                    "2025-06-17",
                    "2025-06-18",
                    "2025-06-19",
                    "2025-06-20",
                    "2025-06-21",
                    "2025-06-23"
                  ],
                  "xaxis": "x",
                  "y": {
                    "bdata": "AgQFBAIBAQMGAwIBAQMDAwECBQMCBQIB",
                    "dtype": "i1"
                  },
                  "yaxis": "y"
                }
              ],
              "layout": {
                "height": 400,
                "legend": {
                  "tracegroupgap": 0
                },
                "template": {
                  "data": {
                    "bar": [
                      {
                        "error_x": {
                          "color": "#2a3f5f"
                        },
                        "error_y": {
                          "color": "#2a3f5f"
                        },
                        "marker": {
                          "line": {
                            "color": "#E5ECF6",
                            "width": 0.5
                          },
                          "pattern": {
                            "fillmode": "overlay",
                            "size": 10,
                            "solidity": 0.2
                          }
                        },
                        "type": "bar"
                      }
                    ],
                    "barpolar": [
                      {
                        "marker": {
                          "line": {
                            "color": "#E5ECF6",
                            "width": 0.5
                          },
                          "pattern": {
                            "fillmode": "overlay",
                            "size": 10,
                            "solidity": 0.2
                          }
                        },
                        "type": "barpolar"
                      }
                    ],
                    "carpet": [
                      {
                        "aaxis": {
                          "endlinecolor": "#2a3f5f",
                          "gridcolor": "white",
                          "linecolor": "white",
                          "minorgridcolor": "white",
                          "startlinecolor": "#2a3f5f"
                        },
                        "baxis": {
                          "endlinecolor": "#2a3f5f",
                          "gridcolor": "white",
                          "linecolor": "white",
                          "minorgridcolor": "white",
                          "startlinecolor": "#2a3f5f"
                        },
                        "type": "carpet"
                      }
                    ],
                    "choropleth": [
                      {
                        "colorbar": {
                          "outlinewidth": 0,
                          "ticks": ""
                        },
                        "type": "choropleth"
                      }
                    ],
                    "contour": [
                      {
                        "colorbar": {
                          "outlinewidth": 0,
                          "ticks": ""
                        },
                        "colorscale": [
                          [
                            0,
                            "#0d0887"
                          ],
                          [
                            0.1111111111111111,
                            "#46039f"
                          ],
                          [
                            0.2222222222222222,
                            "#7201a8"
                          ],
                          [
                            0.3333333333333333,
                            "#9c179e"
                          ],
                          [
                            0.4444444444444444,
                            "#bd3786"
                          ],
                          [
                            0.5555555555555556,
                            "#d8576b"
                          ],
                          [
                            0.6666666666666666,
                            "#ed7953"
                          ],
                          [
                            0.7777777777777778,
                            "#fb9f3a"
                          ],
                          [
                            0.8888888888888888,
                            "#fdca26"
                          ],
                          [
                            1,
                            "#f0f921"
                          ]
                        ],
                        "type": "contour"
                      }
                    ],
                    "contourcarpet": [
                      {
                        "colorbar": {
                          "outlinewidth": 0,
                          "ticks": ""
                        },
                        "type": "contourcarpet"
                      }
                    ],
                    "heatmap": [
                      {
                        "colorbar": {
                          "outlinewidth": 0,
                          "ticks": ""
                        },
                        "colorscale": [
                          [
                            0,
                            "#0d0887"
                          ],
                          [
                            0.1111111111111111,
                            "#46039f"
                          ],
                          [
                            0.2222222222222222,
                            "#7201a8"
                          ],
                          [
                            0.3333333333333333,
                            "#9c179e"
                          ],
                          [
                            0.4444444444444444,
                            "#bd3786"
                          ],
                          [
                            0.5555555555555556,
                            "#d8576b"
                          ],
                          [
                            0.6666666666666666,
                            "#ed7953"
                          ],
                          [
                            0.7777777777777778,
                            "#fb9f3a"
                          ],
                          [
                            0.8888888888888888,
                            "#fdca26"
                          ],
                          [
                            1,
                            "#f0f921"
                          ]
                        ],
                        "type": "heatmap"
                      }
                    ],
                    "histogram": [
                      {
                        "marker": {
                          "pattern": {
                            "fillmode": "overlay",
                            "size": 10,
                            "solidity": 0.2
                          }
                        },
                        "type": "histogram"
                      }
                    ],
                    "histogram2d": [
                      {
                        "colorbar": {
                          "outlinewidth": 0,
                          "ticks": ""
                        },
                        "colorscale": [
                          [
                            0,
                            "#0d0887"
                          ],
                          [
                            0.1111111111111111,
                            "#46039f"
                          ],
                          [
                            0.2222222222222222,
                            "#7201a8"
                          ],
                          [
                            0.3333333333333333,
                            "#9c179e"
                          ],
                          [
                            0.4444444444444444,
                            "#bd3786"
                          ],
                          [
                            0.5555555555555556,
                            "#d8576b"
                          ],
                          [
                            0.6666666666666666,
                            "#ed7953"
                          ],
                          [
                            0.7777777777777778,
                            "#fb9f3a"
                          ],
                          [
                            0.8888888888888888,
                            "#fdca26"
                          ],
                          [
                            1,
                            "#f0f921"
                          ]
                        ],
                        "type": "histogram2d"
                      }
                    ],
                    "histogram2dcontour": [
                      {
                        "colorbar": {
                          "outlinewidth": 0,
                          "ticks": ""
                        },
                        "colorscale": [
                          [
                            0,
                            "#0d0887"
                          ],
                          [
                            0.1111111111111111,
                            "#46039f"
                          ],
                          [
                            0.2222222222222222,
                            "#7201a8"
                          ],
                          [
                            0.3333333333333333,
                            "#9c179e"
                          ],
                          [
                            0.4444444444444444,
                            "#bd3786"
                          ],
                          [
                            0.5555555555555556,
                            "#d8576b"
                          ],
                          [
                            0.6666666666666666,
                            "#ed7953"
                          ],
                          [
                            0.7777777777777778,
                            "#fb9f3a"
                          ],
                          [
                            0.8888888888888888,
                            "#fdca26"
                          ],
                          [
                            1,
                            "#f0f921"
                          ]
                        ],
                        "type": "histogram2dcontour"
                      }
                    ],
                    "mesh3d": [
                      {
                        "colorbar": {
                          "outlinewidth": 0,
                          "ticks": ""
                        },
                        "type": "mesh3d"
                      }
                    ],
                    "parcoords": [
                      {
                        "line": {
                          "colorbar": {
                            "outlinewidth": 0,
                            "ticks": ""
                          }
                        },
                        "type": "parcoords"
                      }
                    ],
                    "pie": [
                      {
                        "automargin": true,
                        "type": "pie"
                      }
                    ],
                    "scatter": [
                      {
                        "fillpattern": {
                          "fillmode": "overlay",
                          "size": 10,
                          "solidity": 0.2
                        },
                        "type": "scatter"
                      }
                    ],
                    "scatter3d": [
                      {
                        "line": {
                          "colorbar": {
                            "outlinewidth": 0,
                            "ticks": ""
                          }
                        },
                        "marker": {
                          "colorbar": {
                            "outlinewidth": 0,
                            "ticks": ""
                          }
                        },
                        "type": "scatter3d"
                      }
                    ],
                    "scattercarpet": [
                      {
                        "marker": {
                          "colorbar": {
                            "outlinewidth": 0,
                            "ticks": ""
                          }
                        },
                        "type": "scattercarpet"
                      }
                    ],
                    "scattergeo": [
                      {
                        "marker": {
                          "colorbar": {
                            "outlinewidth": 0,
                            "ticks": ""
                          }
                        },
                        "type": "scattergeo"
                      }
                    ],
                    "scattergl": [
                      {
                        "marker": {
                          "colorbar": {
                            "outlinewidth": 0,
                            "ticks": ""
                          }
                        },
                        "type": "scattergl"
                      }
                    ],
                    "scattermap": [
                      {
                        "marker": {
                          "colorbar": {
                            "outlinewidth": 0,
                            "ticks": ""
                          }
                        },
                        "type": "scattermap"
                      }
                    ],
                    "scattermapbox": [
                      {
                        "marker": {
                          "colorbar": {
                            "outlinewidth": 0,
                            "ticks": ""
                          }
                        },
                        "type": "scattermapbox"
                      }
                    ],
                    "scatterpolar": [
                      {
                        "marker": {
                          "colorbar": {
                            "outlinewidth": 0,
                            "ticks": ""
                          }
                        },
                        "type": "scatterpolar"
                      }
                    ],
                    "scatterpolargl": [
                      {
                        "marker": {
                          "colorbar": {
                            "outlinewidth": 0,
                            "ticks": ""
                          }
                        },
                        "type": "scatterpolargl"
                      }
                    ],
                    "scatterternary": [
                      {
                        "marker": {
                          "colorbar": {
                            "outlinewidth": 0,
                            "ticks": ""
                          }
                        },
                        "type": "scatterternary"
                      }
                    ],
                    "surface": [
                      {
                        "colorbar": {
                          "outlinewidth": 0,
                          "ticks": ""
                        },
                        "colorscale": [
                          [
                            0,
                            "#0d0887"
                          ],
                          [
                            0.1111111111111111,
                            "#46039f"
                          ],
                          [
                            0.2222222222222222,
                            "#7201a8"
                          ],
                          [
                            0.3333333333333333,
                            "#9c179e"
                          ],
                          [
                            0.4444444444444444,
                            "#bd3786"
                          ],
                          [
                            0.5555555555555556,
                            "#d8576b"
                          ],
                          [
                            0.6666666666666666,
                            "#ed7953"
                          ],
                          [
                            0.7777777777777778,
                            "#fb9f3a"
                          ],
                          [
                            0.8888888888888888,
                            "#fdca26"
                          ],
                          [
                            1,
                            "#f0f921"
                          ]
                        ],
                        "type": "surface"
                      }
                    ],
                    "table": [
                      {
                        "cells": {
                          "fill": {
                            "color": "#EBF0F8"
                          },
                          "line": {
                            "color": "white"
                          }
                        },
                        "header": {
                          "fill": {
                            "color": "#C8D4E3"
                          },
                          "line": {
                            "color": "white"
                          }
                        },
                        "type": "table"
                      }
                    ]
                  },
                  "layout": {
                    "annotationdefaults": {
                      "arrowcolor": "#2a3f5f",
                      "arrowhead": 0,
                      "arrowwidth": 1
                    },
                    "autotypenumbers": "strict",
                    "coloraxis": {
                      "colorbar": {
                        "outlinewidth": 0,
                        "ticks": ""
                      }
                    },
                    "colorscale": {
                      "diverging": [
                        [
                          0,
                          "#8e0152"
                        ],
                        [
                          0.1,
                          "#c51b7d"
                        ],
                        [
                          0.2,
                          "#de77ae"
                        ],
                        [
                          0.3,
                          "#f1b6da"
                        ],
                        [
                          0.4,
                          "#fde0ef"
                        ],
                        [
                          0.5,
                          "#f7f7f7"
                        ],
                        [
                          0.6,
                          "#e6f5d0"
                        ],
                        [
                          0.7,
                          "#b8e186"
                        ],
                        [
                          0.8,
                          "#7fbc41"
                        ],
                        [
                          0.9,
                          "#4d9221"
                        ],
                        [
                          1,
                          "#276419"
                        ]
                      ],
                      "sequential": [
                        [
                          0,
                          "#0d0887"
                        ],
                        [
                          0.1111111111111111,
                          "#46039f"
                        ],
                        [
                          0.2222222222222222,
                          "#7201a8"
                        ],
                        [
                          0.3333333333333333,
                          "#9c179e"
                        ],
                        [
                          0.4444444444444444,
                          "#bd3786"
                        ],
                        [
                          0.5555555555555556,
                          "#d8576b"
                        ],
                        [
                          0.6666666666666666,
                          "#ed7953"
                        ],
                        [
                          0.7777777777777778,
                          "#fb9f3a"
                        ],
                        [
                          0.8888888888888888,
                          "#fdca26"
                        ],
                        [
                          1,
                          "#f0f921"
                        ]
                      ],
                      "sequentialminus": [
                        [
                          0,
                          "#0d0887"
                        ],
                        [
                          0.1111111111111111,
                          "#46039f"
                        ],
                        [
                          0.2222222222222222,
                          "#7201a8"
                        ],
                        [
                          0.3333333333333333,
                          "#9c179e"
                        ],
                        [
                          0.4444444444444444,
                          "#bd3786"
                        ],
                        [
                          0.5555555555555556,
                          "#d8576b"
                        ],
                        [
                          0.6666666666666666,
                          "#ed7953"
                        ],
                        [
                          0.7777777777777778,
                          "#fb9f3a"
                        ],
                        [
                          0.8888888888888888,
                          "#fdca26"
                        ],
                        [
                          1,
                          "#f0f921"
                        ]
                      ]
                    },
                    "colorway": [
                      "#636efa",
                      "#EF553B",
                      "#00cc96",
                      "#ab63fa",
                      "#FFA15A",
                      "#19d3f3",
                      "#FF6692",
                      "#B6E880",
                      "#FF97FF",
                      "#FECB52"
                    ],
                    "font": {
                      "color": "#2a3f5f"
                    },
                    "geo": {
                      "bgcolor": "white",
                      "lakecolor": "white",
                      "landcolor": "#E5ECF6",
                      "showlakes": true,
                      "showland": true,
                      "subunitcolor": "white"
                    },
                    "hoverlabel": {
                      "align": "left"
                    },
                    "hovermode": "closest",
                    "mapbox": {
                      "style": "light"
                    },
                    "paper_bgcolor": "white",
                    "plot_bgcolor": "#E5ECF6",
                    "polar": {
                      "angularaxis": {
                        "gridcolor": "white",
                        "linecolor": "white",
                        "ticks": ""
                      },
                      "bgcolor": "#E5ECF6",
                      "radialaxis": {
                        "gridcolor": "white",
                        "linecolor": "white",
                        "ticks": ""
                      }
                    },
                    "scene": {
                      "xaxis": {
                        "backgroundcolor": "#E5ECF6",
                        "gridcolor": "white",
                        "gridwidth": 2,
                        "linecolor": "white",
                        "showbackground": true,
                        "ticks": "",
                        "zerolinecolor": "white"
                      },
                      "yaxis": {
                        "backgroundcolor": "#E5ECF6",
                        "gridcolor": "white",
                        "gridwidth": 2,
                        "linecolor": "white",
                        "showbackground": true,
                        "ticks": "",
                        "zerolinecolor": "white"
                      },
                      "zaxis": {
                        "backgroundcolor": "#E5ECF6",
                        "gridcolor": "white",
                        "gridwidth": 2,
                        "linecolor": "white",
                        "showbackground": true,
                        "ticks": "",
                        "zerolinecolor": "white"
                      }
                    },
                    "shapedefaults": {
                      "line": {
                        "color": "#2a3f5f"
                      }
                    },
                    "ternary": {
                      "aaxis": {
                        "gridcolor": "white",
                        "linecolor": "white",
                        "ticks": ""
                      },
                      "baxis": {
                        "gridcolor": "white",
                        "linecolor": "white",
                        "ticks": ""
                      },
                      "bgcolor": "#E5ECF6",
                      "caxis": {
                        "gridcolor": "white",
                        "linecolor": "white",
                        "ticks": ""
                      }
                    },
                    "title": {
                      "x": 0.05
                    },
                    "xaxis": {
                      "automargin": true,
                      "gridcolor": "white",
                      "linecolor": "white",
                      "ticks": "",
                      "title": {
                        "standoff": 15
                      },
                      "zerolinecolor": "white",
                      "zerolinewidth": 2
                    },
                    "yaxis": {
                      "automargin": true,
                      "gridcolor": "white",
                      "linecolor": "white",
                      "ticks": "",
                      "title": {
                        "standoff": 15
                      },
                      "zerolinecolor": "white",
                      "zerolinewidth": 2
                    }
                  }
                },
                "title": {
                  "text": "Interactive Message Timeline"
                },
                "xaxis": {
                  "anchor": "y",
                  "domain": [
                    0,
                    1
                  ],
                  "title": {
                    "text": "Date"
                  }
                },
                "yaxis": {
                  "anchor": "x",
                  "domain": [
                    0,
                    1
                  ],
                  "title": {
                    "text": "Number of Messages"
                  }
                }
              }
            }
          },
          "metadata": {},
          "output_type": "display_data"
        },
        {
          "data": {
            "application/vnd.plotly.v1+json": {
              "config": {
                "plotlyServerURL": "https://plot.ly"
              },
              "data": [
                {
                  "coloraxis": "coloraxis",
                  "hovertemplate": "Hour of Day: %{x}<br>Day of Week: %{y}<br>Message Count: %{z}<extra></extra>",
                  "name": "0",
                  "type": "heatmap",
                  "x": [
                    0,
                    1,
                    2,
                    3,
                    4,
                    5,
                    6,
                    7,
                    8,
                    9,
                    10,
                    11,
                    12,
                    13,
                    14,
                    15,
                    16,
                    17,
                    18,
                    19,
                    20,
                    21,
                    22,
                    23
                  ],
                  "xaxis": "x",
                  "y": [
                    "Monday",
                    "Tuesday",
                    "Wednesday",
                    "Thursday",
                    "Friday",
                    "Saturday",
                    "Sunday"
                  ],
                  "yaxis": "y",
                  "z": {
                    "bdata": "AAAAAAAAAAAAAAAAAAAAAAAAAAAAAAAAAAAAAAAAAAAAAAAAAAAAAAAAAAAAAAAAAAAAAAAAAAAAAAAAAAAAAAAAAAAAAAAAAAAAAAAAAAAAAAAAAAAAAAAAAAAAAABAAAAAAAAA8D8AAAAAAAAAQAAAAAAAAAAAAAAAAAAAAAAAAAAAAAAAAAAAAAAAAAAAAAAAAAAAAAAAAAAAAADwPwAAAAAAAAAAAAAAAAAAAAAAAAAAAADwPwAAAAAAAPA/AAAAAAAAAAAAAAAAAAAAAAAAAAAAAAAAAAAAAAAAAAAAAAAAAAAAAAAAAAAAAAAAAAAAAAAAAAAAAAAAAAAAAAAAAAAAAPA/AAAAAAAAAAAAAAAAAAAAQAAAAAAAAPA/AAAAAAAAAAAAAAAAAAAAAAAAAAAAAPA/AAAAAAAA8D8AAAAAAAAAAAAAAAAAAPA/AAAAAAAAAAAAAAAAAAAAAAAAAAAAAAhAAAAAAAAA8D8AAAAAAAAAAAAAAAAAAPA/AAAAAAAAAAAAAAAAAAAAAAAAAAAAAAAAAAAAAAAAAAAAAAAAAAAAAAAAAAAAAAAAAAAAAAAAAAAAAAAAAADwPwAAAAAAAPA/AAAAAAAAAAAAAAAAAADwPwAAAAAAAAAAAAAAAAAA8D8AAAAAAAAAAAAAAAAAAAAAAAAAAAAA8D8AAAAAAADwPwAAAAAAAAAAAAAAAAAAAEAAAAAAAADwPwAAAAAAAAAAAAAAAAAA8D8AAAAAAADwPwAAAAAAAABAAAAAAAAAAEAAAAAAAAAAAAAAAAAAAAAAAAAAAAAAAAAAAAAAAAAAAAAAAAAAAAAAAAAAAAAAAAAAAAAAAAAAAAAAAAAAAAAAAAAAAAAA8D8AAAAAAAAAAAAAAAAAAABAAAAAAAAA8D8AAAAAAAAAAAAAAAAAAAAAAAAAAAAAAEAAAAAAAAAAAAAAAAAAAAAAAAAAAAAAAAAAAAAAAADwPwAAAAAAAAAAAAAAAAAA8D8AAAAAAADwPwAAAAAAAABAAAAAAAAAAAAAAAAAAAAAAAAAAAAAAAAAAAAAAAAAAAAAAAAAAAAAAAAAAAAAAAAAAAAAAAAAAAAAAAAAAAAAQAAAAAAAAAAAAAAAAAAA8D8AAAAAAAAAAAAAAAAAAAAAAAAAAAAAAAAAAAAAAADwPwAAAAAAAAAAAAAAAAAAAAAAAAAAAADwPwAAAAAAAAAAAAAAAAAAAAAAAAAAAADwPwAAAAAAAAAAAAAAAAAAAEAAAAAAAAAAQAAAAAAAAPA/AAAAAAAAAEAAAAAAAAAAAAAAAAAAAAAAAAAAAAAAAAAAAAAAAAAAAAAAAAAAAAAAAAAAAAAAAAAAAAAAAAAAAAAAAAAAAAAAAAAAAAAAAAAAAAAAAADwPwAAAAAAAAAAAAAAAAAA8D8AAAAAAAAAAAAAAAAAAPA/AAAAAAAAAAAAAAAAAAAAAAAAAAAAAAAAAAAAAAAAAAAAAAAAAADwPwAAAAAAAAAAAAAAAAAAAEAAAAAAAAAAAAAAAAAAAAAAAAAAAAAA+H8AAAAAAAAAAAAAAAAAAAAAAAAAAAAAAAAAAAAAAAAAAAAAAAAAAAAAAAAAAAAAAAAAAAAAAAD4fwAAAAAAAPh/AAAAAAAA+H8AAAAAAAD4fwAAAAAAAPh/AAAAAAAA+H8AAAAAAAD4fwAAAAAAAPh/AAAAAAAA+H8AAAAAAAD4fwAAAAAAAPh/AAAAAAAA+H8AAAAAAAD4fwAAAAAAAPh/AAAAAAAA+H8AAAAAAAD4fwAAAAAAAPh/",
                    "dtype": "f8",
                    "shape": "7, 24"
                  }
                }
              ],
              "layout": {
                "coloraxis": {
                  "colorbar": {
                    "title": {
                      "text": "Message Count"
                    }
                  },
                  "colorscale": [
                    [
                      0,
                      "rgb(247,251,255)"
                    ],
                    [
                      0.125,
                      "rgb(222,235,247)"
                    ],
                    [
                      0.25,
                      "rgb(198,219,239)"
                    ],
                    [
                      0.375,
                      "rgb(158,202,225)"
                    ],
                    [
                      0.5,
                      "rgb(107,174,214)"
                    ],
                    [
                      0.625,
                      "rgb(66,146,198)"
                    ],
                    [
                      0.75,
                      "rgb(33,113,181)"
                    ],
                    [
                      0.875,
                      "rgb(8,81,156)"
                    ],
                    [
                      1,
                      "rgb(8,48,107)"
                    ]
                  ]
                },
                "height": 400,
                "template": {
                  "data": {
                    "bar": [
                      {
                        "error_x": {
                          "color": "#2a3f5f"
                        },
                        "error_y": {
                          "color": "#2a3f5f"
                        },
                        "marker": {
                          "line": {
                            "color": "#E5ECF6",
                            "width": 0.5
                          },
                          "pattern": {
                            "fillmode": "overlay",
                            "size": 10,
                            "solidity": 0.2
                          }
                        },
                        "type": "bar"
                      }
                    ],
                    "barpolar": [
                      {
                        "marker": {
                          "line": {
                            "color": "#E5ECF6",
                            "width": 0.5
                          },
                          "pattern": {
                            "fillmode": "overlay",
                            "size": 10,
                            "solidity": 0.2
                          }
                        },
                        "type": "barpolar"
                      }
                    ],
                    "carpet": [
                      {
                        "aaxis": {
                          "endlinecolor": "#2a3f5f",
                          "gridcolor": "white",
                          "linecolor": "white",
                          "minorgridcolor": "white",
                          "startlinecolor": "#2a3f5f"
                        },
                        "baxis": {
                          "endlinecolor": "#2a3f5f",
                          "gridcolor": "white",
                          "linecolor": "white",
                          "minorgridcolor": "white",
                          "startlinecolor": "#2a3f5f"
                        },
                        "type": "carpet"
                      }
                    ],
                    "choropleth": [
                      {
                        "colorbar": {
                          "outlinewidth": 0,
                          "ticks": ""
                        },
                        "type": "choropleth"
                      }
                    ],
                    "contour": [
                      {
                        "colorbar": {
                          "outlinewidth": 0,
                          "ticks": ""
                        },
                        "colorscale": [
                          [
                            0,
                            "#0d0887"
                          ],
                          [
                            0.1111111111111111,
                            "#46039f"
                          ],
                          [
                            0.2222222222222222,
                            "#7201a8"
                          ],
                          [
                            0.3333333333333333,
                            "#9c179e"
                          ],
                          [
                            0.4444444444444444,
                            "#bd3786"
                          ],
                          [
                            0.5555555555555556,
                            "#d8576b"
                          ],
                          [
                            0.6666666666666666,
                            "#ed7953"
                          ],
                          [
                            0.7777777777777778,
                            "#fb9f3a"
                          ],
                          [
                            0.8888888888888888,
                            "#fdca26"
                          ],
                          [
                            1,
                            "#f0f921"
                          ]
                        ],
                        "type": "contour"
                      }
                    ],
                    "contourcarpet": [
                      {
                        "colorbar": {
                          "outlinewidth": 0,
                          "ticks": ""
                        },
                        "type": "contourcarpet"
                      }
                    ],
                    "heatmap": [
                      {
                        "colorbar": {
                          "outlinewidth": 0,
                          "ticks": ""
                        },
                        "colorscale": [
                          [
                            0,
                            "#0d0887"
                          ],
                          [
                            0.1111111111111111,
                            "#46039f"
                          ],
                          [
                            0.2222222222222222,
                            "#7201a8"
                          ],
                          [
                            0.3333333333333333,
                            "#9c179e"
                          ],
                          [
                            0.4444444444444444,
                            "#bd3786"
                          ],
                          [
                            0.5555555555555556,
                            "#d8576b"
                          ],
                          [
                            0.6666666666666666,
                            "#ed7953"
                          ],
                          [
                            0.7777777777777778,
                            "#fb9f3a"
                          ],
                          [
                            0.8888888888888888,
                            "#fdca26"
                          ],
                          [
                            1,
                            "#f0f921"
                          ]
                        ],
                        "type": "heatmap"
                      }
                    ],
                    "histogram": [
                      {
                        "marker": {
                          "pattern": {
                            "fillmode": "overlay",
                            "size": 10,
                            "solidity": 0.2
                          }
                        },
                        "type": "histogram"
                      }
                    ],
                    "histogram2d": [
                      {
                        "colorbar": {
                          "outlinewidth": 0,
                          "ticks": ""
                        },
                        "colorscale": [
                          [
                            0,
                            "#0d0887"
                          ],
                          [
                            0.1111111111111111,
                            "#46039f"
                          ],
                          [
                            0.2222222222222222,
                            "#7201a8"
                          ],
                          [
                            0.3333333333333333,
                            "#9c179e"
                          ],
                          [
                            0.4444444444444444,
                            "#bd3786"
                          ],
                          [
                            0.5555555555555556,
                            "#d8576b"
                          ],
                          [
                            0.6666666666666666,
                            "#ed7953"
                          ],
                          [
                            0.7777777777777778,
                            "#fb9f3a"
                          ],
                          [
                            0.8888888888888888,
                            "#fdca26"
                          ],
                          [
                            1,
                            "#f0f921"
                          ]
                        ],
                        "type": "histogram2d"
                      }
                    ],
                    "histogram2dcontour": [
                      {
                        "colorbar": {
                          "outlinewidth": 0,
                          "ticks": ""
                        },
                        "colorscale": [
                          [
                            0,
                            "#0d0887"
                          ],
                          [
                            0.1111111111111111,
                            "#46039f"
                          ],
                          [
                            0.2222222222222222,
                            "#7201a8"
                          ],
                          [
                            0.3333333333333333,
                            "#9c179e"
                          ],
                          [
                            0.4444444444444444,
                            "#bd3786"
                          ],
                          [
                            0.5555555555555556,
                            "#d8576b"
                          ],
                          [
                            0.6666666666666666,
                            "#ed7953"
                          ],
                          [
                            0.7777777777777778,
                            "#fb9f3a"
                          ],
                          [
                            0.8888888888888888,
                            "#fdca26"
                          ],
                          [
                            1,
                            "#f0f921"
                          ]
                        ],
                        "type": "histogram2dcontour"
                      }
                    ],
                    "mesh3d": [
                      {
                        "colorbar": {
                          "outlinewidth": 0,
                          "ticks": ""
                        },
                        "type": "mesh3d"
                      }
                    ],
                    "parcoords": [
                      {
                        "line": {
                          "colorbar": {
                            "outlinewidth": 0,
                            "ticks": ""
                          }
                        },
                        "type": "parcoords"
                      }
                    ],
                    "pie": [
                      {
                        "automargin": true,
                        "type": "pie"
                      }
                    ],
                    "scatter": [
                      {
                        "fillpattern": {
                          "fillmode": "overlay",
                          "size": 10,
                          "solidity": 0.2
                        },
                        "type": "scatter"
                      }
                    ],
                    "scatter3d": [
                      {
                        "line": {
                          "colorbar": {
                            "outlinewidth": 0,
                            "ticks": ""
                          }
                        },
                        "marker": {
                          "colorbar": {
                            "outlinewidth": 0,
                            "ticks": ""
                          }
                        },
                        "type": "scatter3d"
                      }
                    ],
                    "scattercarpet": [
                      {
                        "marker": {
                          "colorbar": {
                            "outlinewidth": 0,
                            "ticks": ""
                          }
                        },
                        "type": "scattercarpet"
                      }
                    ],
                    "scattergeo": [
                      {
                        "marker": {
                          "colorbar": {
                            "outlinewidth": 0,
                            "ticks": ""
                          }
                        },
                        "type": "scattergeo"
                      }
                    ],
                    "scattergl": [
                      {
                        "marker": {
                          "colorbar": {
                            "outlinewidth": 0,
                            "ticks": ""
                          }
                        },
                        "type": "scattergl"
                      }
                    ],
                    "scattermap": [
                      {
                        "marker": {
                          "colorbar": {
                            "outlinewidth": 0,
                            "ticks": ""
                          }
                        },
                        "type": "scattermap"
                      }
                    ],
                    "scattermapbox": [
                      {
                        "marker": {
                          "colorbar": {
                            "outlinewidth": 0,
                            "ticks": ""
                          }
                        },
                        "type": "scattermapbox"
                      }
                    ],
                    "scatterpolar": [
                      {
                        "marker": {
                          "colorbar": {
                            "outlinewidth": 0,
                            "ticks": ""
                          }
                        },
                        "type": "scatterpolar"
                      }
                    ],
                    "scatterpolargl": [
                      {
                        "marker": {
                          "colorbar": {
                            "outlinewidth": 0,
                            "ticks": ""
                          }
                        },
                        "type": "scatterpolargl"
                      }
                    ],
                    "scatterternary": [
                      {
                        "marker": {
                          "colorbar": {
                            "outlinewidth": 0,
                            "ticks": ""
                          }
                        },
                        "type": "scatterternary"
                      }
                    ],
                    "surface": [
                      {
                        "colorbar": {
                          "outlinewidth": 0,
                          "ticks": ""
                        },
                        "colorscale": [
                          [
                            0,
                            "#0d0887"
                          ],
                          [
                            0.1111111111111111,
                            "#46039f"
                          ],
                          [
                            0.2222222222222222,
                            "#7201a8"
                          ],
                          [
                            0.3333333333333333,
                            "#9c179e"
                          ],
                          [
                            0.4444444444444444,
                            "#bd3786"
                          ],
                          [
                            0.5555555555555556,
                            "#d8576b"
                          ],
                          [
                            0.6666666666666666,
                            "#ed7953"
                          ],
                          [
                            0.7777777777777778,
                            "#fb9f3a"
                          ],
                          [
                            0.8888888888888888,
                            "#fdca26"
                          ],
                          [
                            1,
                            "#f0f921"
                          ]
                        ],
                        "type": "surface"
                      }
                    ],
                    "table": [
                      {
                        "cells": {
                          "fill": {
                            "color": "#EBF0F8"
                          },
                          "line": {
                            "color": "white"
                          }
                        },
                        "header": {
                          "fill": {
                            "color": "#C8D4E3"
                          },
                          "line": {
                            "color": "white"
                          }
                        },
                        "type": "table"
                      }
                    ]
                  },
                  "layout": {
                    "annotationdefaults": {
                      "arrowcolor": "#2a3f5f",
                      "arrowhead": 0,
                      "arrowwidth": 1
                    },
                    "autotypenumbers": "strict",
                    "coloraxis": {
                      "colorbar": {
                        "outlinewidth": 0,
                        "ticks": ""
                      }
                    },
                    "colorscale": {
                      "diverging": [
                        [
                          0,
                          "#8e0152"
                        ],
                        [
                          0.1,
                          "#c51b7d"
                        ],
                        [
                          0.2,
                          "#de77ae"
                        ],
                        [
                          0.3,
                          "#f1b6da"
                        ],
                        [
                          0.4,
                          "#fde0ef"
                        ],
                        [
                          0.5,
                          "#f7f7f7"
                        ],
                        [
                          0.6,
                          "#e6f5d0"
                        ],
                        [
                          0.7,
                          "#b8e186"
                        ],
                        [
                          0.8,
                          "#7fbc41"
                        ],
                        [
                          0.9,
                          "#4d9221"
                        ],
                        [
                          1,
                          "#276419"
                        ]
                      ],
                      "sequential": [
                        [
                          0,
                          "#0d0887"
                        ],
                        [
                          0.1111111111111111,
                          "#46039f"
                        ],
                        [
                          0.2222222222222222,
                          "#7201a8"
                        ],
                        [
                          0.3333333333333333,
                          "#9c179e"
                        ],
                        [
                          0.4444444444444444,
                          "#bd3786"
                        ],
                        [
                          0.5555555555555556,
                          "#d8576b"
                        ],
                        [
                          0.6666666666666666,
                          "#ed7953"
                        ],
                        [
                          0.7777777777777778,
                          "#fb9f3a"
                        ],
                        [
                          0.8888888888888888,
                          "#fdca26"
                        ],
                        [
                          1,
                          "#f0f921"
                        ]
                      ],
                      "sequentialminus": [
                        [
                          0,
                          "#0d0887"
                        ],
                        [
                          0.1111111111111111,
                          "#46039f"
                        ],
                        [
                          0.2222222222222222,
                          "#7201a8"
                        ],
                        [
                          0.3333333333333333,
                          "#9c179e"
                        ],
                        [
                          0.4444444444444444,
                          "#bd3786"
                        ],
                        [
                          0.5555555555555556,
                          "#d8576b"
                        ],
                        [
                          0.6666666666666666,
                          "#ed7953"
                        ],
                        [
                          0.7777777777777778,
                          "#fb9f3a"
                        ],
                        [
                          0.8888888888888888,
                          "#fdca26"
                        ],
                        [
                          1,
                          "#f0f921"
                        ]
                      ]
                    },
                    "colorway": [
                      "#636efa",
                      "#EF553B",
                      "#00cc96",
                      "#ab63fa",
                      "#FFA15A",
                      "#19d3f3",
                      "#FF6692",
                      "#B6E880",
                      "#FF97FF",
                      "#FECB52"
                    ],
                    "font": {
                      "color": "#2a3f5f"
                    },
                    "geo": {
                      "bgcolor": "white",
                      "lakecolor": "white",
                      "landcolor": "#E5ECF6",
                      "showlakes": true,
                      "showland": true,
                      "subunitcolor": "white"
                    },
                    "hoverlabel": {
                      "align": "left"
                    },
                    "hovermode": "closest",
                    "mapbox": {
                      "style": "light"
                    },
                    "paper_bgcolor": "white",
                    "plot_bgcolor": "#E5ECF6",
                    "polar": {
                      "angularaxis": {
                        "gridcolor": "white",
                        "linecolor": "white",
                        "ticks": ""
                      },
                      "bgcolor": "#E5ECF6",
                      "radialaxis": {
                        "gridcolor": "white",
                        "linecolor": "white",
                        "ticks": ""
                      }
                    },
                    "scene": {
                      "xaxis": {
                        "backgroundcolor": "#E5ECF6",
                        "gridcolor": "white",
                        "gridwidth": 2,
                        "linecolor": "white",
                        "showbackground": true,
                        "ticks": "",
                        "zerolinecolor": "white"
                      },
                      "yaxis": {
                        "backgroundcolor": "#E5ECF6",
                        "gridcolor": "white",
                        "gridwidth": 2,
                        "linecolor": "white",
                        "showbackground": true,
                        "ticks": "",
                        "zerolinecolor": "white"
                      },
                      "zaxis": {
                        "backgroundcolor": "#E5ECF6",
                        "gridcolor": "white",
                        "gridwidth": 2,
                        "linecolor": "white",
                        "showbackground": true,
                        "ticks": "",
                        "zerolinecolor": "white"
                      }
                    },
                    "shapedefaults": {
                      "line": {
                        "color": "#2a3f5f"
                      }
                    },
                    "ternary": {
                      "aaxis": {
                        "gridcolor": "white",
                        "linecolor": "white",
                        "ticks": ""
                      },
                      "baxis": {
                        "gridcolor": "white",
                        "linecolor": "white",
                        "ticks": ""
                      },
                      "bgcolor": "#E5ECF6",
                      "caxis": {
                        "gridcolor": "white",
                        "linecolor": "white",
                        "ticks": ""
                      }
                    },
                    "title": {
                      "x": 0.05
                    },
                    "xaxis": {
                      "automargin": true,
                      "gridcolor": "white",
                      "linecolor": "white",
                      "ticks": "",
                      "title": {
                        "standoff": 15
                      },
                      "zerolinecolor": "white",
                      "zerolinewidth": 2
                    },
                    "yaxis": {
                      "automargin": true,
                      "gridcolor": "white",
                      "linecolor": "white",
                      "ticks": "",
                      "title": {
                        "standoff": 15
                      },
                      "zerolinecolor": "white",
                      "zerolinewidth": 2
                    }
                  }
                },
                "title": {
                  "text": "Activity Heatmap: Messages by Hour and Day"
                },
                "xaxis": {
                  "anchor": "y",
                  "domain": [
                    0,
                    1
                  ],
                  "title": {
                    "text": "Hour of Day"
                  }
                },
                "yaxis": {
                  "anchor": "x",
                  "autorange": "reversed",
                  "domain": [
                    0,
                    1
                  ],
                  "title": {
                    "text": "Day of Week"
                  }
                }
              }
            }
          },
          "metadata": {},
          "output_type": "display_data"
        },
        {
          "data": {
            "application/vnd.plotly.v1+json": {
              "config": {
                "plotlyServerURL": "https://plot.ly"
              },
              "data": [
                {
                  "customdata": {
                    "bdata": "AAAAAACgdkCPwvUoXI8jQAAAAAAAAE5AAAAAAADAeEC4HoXrUTgxQAAAAAAAAD5AAAAAAACAQkAAAAAAAIAiQAAAAAAAAABA",
                    "dtype": "f8",
                    "shape": "3, 3"
                  },
                  "hovertemplate": "Number of Messages=%{x}<br>User=%{y}<br>Total_Words=%{customdata[0]}<br>Avg_Words_per_Message=%{customdata[1]}<br>Total_Reactions=%{customdata[2]}<extra></extra>",
                  "legendgroup": "",
                  "marker": {
                    "color": "#636efa",
                    "pattern": {
                      "shape": ""
                    }
                  },
                  "name": "",
                  "orientation": "h",
                  "showlegend": false,
                  "textposition": "auto",
                  "type": "bar",
                  "x": {
                    "bdata": "JRcE",
                    "dtype": "i1"
                  },
                  "xaxis": "x",
                  "y": [
                    "Romain Quilliot",
                    "Julien Marinica",
                    "Antoine Lépée"
                  ],
                  "yaxis": "y"
                }
              ],
              "layout": {
                "barmode": "relative",
                "height": 600,
                "legend": {
                  "tracegroupgap": 0
                },
                "template": {
                  "data": {
                    "bar": [
                      {
                        "error_x": {
                          "color": "#2a3f5f"
                        },
                        "error_y": {
                          "color": "#2a3f5f"
                        },
                        "marker": {
                          "line": {
                            "color": "#E5ECF6",
                            "width": 0.5
                          },
                          "pattern": {
                            "fillmode": "overlay",
                            "size": 10,
                            "solidity": 0.2
                          }
                        },
                        "type": "bar"
                      }
                    ],
                    "barpolar": [
                      {
                        "marker": {
                          "line": {
                            "color": "#E5ECF6",
                            "width": 0.5
                          },
                          "pattern": {
                            "fillmode": "overlay",
                            "size": 10,
                            "solidity": 0.2
                          }
                        },
                        "type": "barpolar"
                      }
                    ],
                    "carpet": [
                      {
                        "aaxis": {
                          "endlinecolor": "#2a3f5f",
                          "gridcolor": "white",
                          "linecolor": "white",
                          "minorgridcolor": "white",
                          "startlinecolor": "#2a3f5f"
                        },
                        "baxis": {
                          "endlinecolor": "#2a3f5f",
                          "gridcolor": "white",
                          "linecolor": "white",
                          "minorgridcolor": "white",
                          "startlinecolor": "#2a3f5f"
                        },
                        "type": "carpet"
                      }
                    ],
                    "choropleth": [
                      {
                        "colorbar": {
                          "outlinewidth": 0,
                          "ticks": ""
                        },
                        "type": "choropleth"
                      }
                    ],
                    "contour": [
                      {
                        "colorbar": {
                          "outlinewidth": 0,
                          "ticks": ""
                        },
                        "colorscale": [
                          [
                            0,
                            "#0d0887"
                          ],
                          [
                            0.1111111111111111,
                            "#46039f"
                          ],
                          [
                            0.2222222222222222,
                            "#7201a8"
                          ],
                          [
                            0.3333333333333333,
                            "#9c179e"
                          ],
                          [
                            0.4444444444444444,
                            "#bd3786"
                          ],
                          [
                            0.5555555555555556,
                            "#d8576b"
                          ],
                          [
                            0.6666666666666666,
                            "#ed7953"
                          ],
                          [
                            0.7777777777777778,
                            "#fb9f3a"
                          ],
                          [
                            0.8888888888888888,
                            "#fdca26"
                          ],
                          [
                            1,
                            "#f0f921"
                          ]
                        ],
                        "type": "contour"
                      }
                    ],
                    "contourcarpet": [
                      {
                        "colorbar": {
                          "outlinewidth": 0,
                          "ticks": ""
                        },
                        "type": "contourcarpet"
                      }
                    ],
                    "heatmap": [
                      {
                        "colorbar": {
                          "outlinewidth": 0,
                          "ticks": ""
                        },
                        "colorscale": [
                          [
                            0,
                            "#0d0887"
                          ],
                          [
                            0.1111111111111111,
                            "#46039f"
                          ],
                          [
                            0.2222222222222222,
                            "#7201a8"
                          ],
                          [
                            0.3333333333333333,
                            "#9c179e"
                          ],
                          [
                            0.4444444444444444,
                            "#bd3786"
                          ],
                          [
                            0.5555555555555556,
                            "#d8576b"
                          ],
                          [
                            0.6666666666666666,
                            "#ed7953"
                          ],
                          [
                            0.7777777777777778,
                            "#fb9f3a"
                          ],
                          [
                            0.8888888888888888,
                            "#fdca26"
                          ],
                          [
                            1,
                            "#f0f921"
                          ]
                        ],
                        "type": "heatmap"
                      }
                    ],
                    "histogram": [
                      {
                        "marker": {
                          "pattern": {
                            "fillmode": "overlay",
                            "size": 10,
                            "solidity": 0.2
                          }
                        },
                        "type": "histogram"
                      }
                    ],
                    "histogram2d": [
                      {
                        "colorbar": {
                          "outlinewidth": 0,
                          "ticks": ""
                        },
                        "colorscale": [
                          [
                            0,
                            "#0d0887"
                          ],
                          [
                            0.1111111111111111,
                            "#46039f"
                          ],
                          [
                            0.2222222222222222,
                            "#7201a8"
                          ],
                          [
                            0.3333333333333333,
                            "#9c179e"
                          ],
                          [
                            0.4444444444444444,
                            "#bd3786"
                          ],
                          [
                            0.5555555555555556,
                            "#d8576b"
                          ],
                          [
                            0.6666666666666666,
                            "#ed7953"
                          ],
                          [
                            0.7777777777777778,
                            "#fb9f3a"
                          ],
                          [
                            0.8888888888888888,
                            "#fdca26"
                          ],
                          [
                            1,
                            "#f0f921"
                          ]
                        ],
                        "type": "histogram2d"
                      }
                    ],
                    "histogram2dcontour": [
                      {
                        "colorbar": {
                          "outlinewidth": 0,
                          "ticks": ""
                        },
                        "colorscale": [
                          [
                            0,
                            "#0d0887"
                          ],
                          [
                            0.1111111111111111,
                            "#46039f"
                          ],
                          [
                            0.2222222222222222,
                            "#7201a8"
                          ],
                          [
                            0.3333333333333333,
                            "#9c179e"
                          ],
                          [
                            0.4444444444444444,
                            "#bd3786"
                          ],
                          [
                            0.5555555555555556,
                            "#d8576b"
                          ],
                          [
                            0.6666666666666666,
                            "#ed7953"
                          ],
                          [
                            0.7777777777777778,
                            "#fb9f3a"
                          ],
                          [
                            0.8888888888888888,
                            "#fdca26"
                          ],
                          [
                            1,
                            "#f0f921"
                          ]
                        ],
                        "type": "histogram2dcontour"
                      }
                    ],
                    "mesh3d": [
                      {
                        "colorbar": {
                          "outlinewidth": 0,
                          "ticks": ""
                        },
                        "type": "mesh3d"
                      }
                    ],
                    "parcoords": [
                      {
                        "line": {
                          "colorbar": {
                            "outlinewidth": 0,
                            "ticks": ""
                          }
                        },
                        "type": "parcoords"
                      }
                    ],
                    "pie": [
                      {
                        "automargin": true,
                        "type": "pie"
                      }
                    ],
                    "scatter": [
                      {
                        "fillpattern": {
                          "fillmode": "overlay",
                          "size": 10,
                          "solidity": 0.2
                        },
                        "type": "scatter"
                      }
                    ],
                    "scatter3d": [
                      {
                        "line": {
                          "colorbar": {
                            "outlinewidth": 0,
                            "ticks": ""
                          }
                        },
                        "marker": {
                          "colorbar": {
                            "outlinewidth": 0,
                            "ticks": ""
                          }
                        },
                        "type": "scatter3d"
                      }
                    ],
                    "scattercarpet": [
                      {
                        "marker": {
                          "colorbar": {
                            "outlinewidth": 0,
                            "ticks": ""
                          }
                        },
                        "type": "scattercarpet"
                      }
                    ],
                    "scattergeo": [
                      {
                        "marker": {
                          "colorbar": {
                            "outlinewidth": 0,
                            "ticks": ""
                          }
                        },
                        "type": "scattergeo"
                      }
                    ],
                    "scattergl": [
                      {
                        "marker": {
                          "colorbar": {
                            "outlinewidth": 0,
                            "ticks": ""
                          }
                        },
                        "type": "scattergl"
                      }
                    ],
                    "scattermap": [
                      {
                        "marker": {
                          "colorbar": {
                            "outlinewidth": 0,
                            "ticks": ""
                          }
                        },
                        "type": "scattermap"
                      }
                    ],
                    "scattermapbox": [
                      {
                        "marker": {
                          "colorbar": {
                            "outlinewidth": 0,
                            "ticks": ""
                          }
                        },
                        "type": "scattermapbox"
                      }
                    ],
                    "scatterpolar": [
                      {
                        "marker": {
                          "colorbar": {
                            "outlinewidth": 0,
                            "ticks": ""
                          }
                        },
                        "type": "scatterpolar"
                      }
                    ],
                    "scatterpolargl": [
                      {
                        "marker": {
                          "colorbar": {
                            "outlinewidth": 0,
                            "ticks": ""
                          }
                        },
                        "type": "scatterpolargl"
                      }
                    ],
                    "scatterternary": [
                      {
                        "marker": {
                          "colorbar": {
                            "outlinewidth": 0,
                            "ticks": ""
                          }
                        },
                        "type": "scatterternary"
                      }
                    ],
                    "surface": [
                      {
                        "colorbar": {
                          "outlinewidth": 0,
                          "ticks": ""
                        },
                        "colorscale": [
                          [
                            0,
                            "#0d0887"
                          ],
                          [
                            0.1111111111111111,
                            "#46039f"
                          ],
                          [
                            0.2222222222222222,
                            "#7201a8"
                          ],
                          [
                            0.3333333333333333,
                            "#9c179e"
                          ],
                          [
                            0.4444444444444444,
                            "#bd3786"
                          ],
                          [
                            0.5555555555555556,
                            "#d8576b"
                          ],
                          [
                            0.6666666666666666,
                            "#ed7953"
                          ],
                          [
                            0.7777777777777778,
                            "#fb9f3a"
                          ],
                          [
                            0.8888888888888888,
                            "#fdca26"
                          ],
                          [
                            1,
                            "#f0f921"
                          ]
                        ],
                        "type": "surface"
                      }
                    ],
                    "table": [
                      {
                        "cells": {
                          "fill": {
                            "color": "#EBF0F8"
                          },
                          "line": {
                            "color": "white"
                          }
                        },
                        "header": {
                          "fill": {
                            "color": "#C8D4E3"
                          },
                          "line": {
                            "color": "white"
                          }
                        },
                        "type": "table"
                      }
                    ]
                  },
                  "layout": {
                    "annotationdefaults": {
                      "arrowcolor": "#2a3f5f",
                      "arrowhead": 0,
                      "arrowwidth": 1
                    },
                    "autotypenumbers": "strict",
                    "coloraxis": {
                      "colorbar": {
                        "outlinewidth": 0,
                        "ticks": ""
                      }
                    },
                    "colorscale": {
                      "diverging": [
                        [
                          0,
                          "#8e0152"
                        ],
                        [
                          0.1,
                          "#c51b7d"
                        ],
                        [
                          0.2,
                          "#de77ae"
                        ],
                        [
                          0.3,
                          "#f1b6da"
                        ],
                        [
                          0.4,
                          "#fde0ef"
                        ],
                        [
                          0.5,
                          "#f7f7f7"
                        ],
                        [
                          0.6,
                          "#e6f5d0"
                        ],
                        [
                          0.7,
                          "#b8e186"
                        ],
                        [
                          0.8,
                          "#7fbc41"
                        ],
                        [
                          0.9,
                          "#4d9221"
                        ],
                        [
                          1,
                          "#276419"
                        ]
                      ],
                      "sequential": [
                        [
                          0,
                          "#0d0887"
                        ],
                        [
                          0.1111111111111111,
                          "#46039f"
                        ],
                        [
                          0.2222222222222222,
                          "#7201a8"
                        ],
                        [
                          0.3333333333333333,
                          "#9c179e"
                        ],
                        [
                          0.4444444444444444,
                          "#bd3786"
                        ],
                        [
                          0.5555555555555556,
                          "#d8576b"
                        ],
                        [
                          0.6666666666666666,
                          "#ed7953"
                        ],
                        [
                          0.7777777777777778,
                          "#fb9f3a"
                        ],
                        [
                          0.8888888888888888,
                          "#fdca26"
                        ],
                        [
                          1,
                          "#f0f921"
                        ]
                      ],
                      "sequentialminus": [
                        [
                          0,
                          "#0d0887"
                        ],
                        [
                          0.1111111111111111,
                          "#46039f"
                        ],
                        [
                          0.2222222222222222,
                          "#7201a8"
                        ],
                        [
                          0.3333333333333333,
                          "#9c179e"
                        ],
                        [
                          0.4444444444444444,
                          "#bd3786"
                        ],
                        [
                          0.5555555555555556,
                          "#d8576b"
                        ],
                        [
                          0.6666666666666666,
                          "#ed7953"
                        ],
                        [
                          0.7777777777777778,
                          "#fb9f3a"
                        ],
                        [
                          0.8888888888888888,
                          "#fdca26"
                        ],
                        [
                          1,
                          "#f0f921"
                        ]
                      ]
                    },
                    "colorway": [
                      "#636efa",
                      "#EF553B",
                      "#00cc96",
                      "#ab63fa",
                      "#FFA15A",
                      "#19d3f3",
                      "#FF6692",
                      "#B6E880",
                      "#FF97FF",
                      "#FECB52"
                    ],
                    "font": {
                      "color": "#2a3f5f"
                    },
                    "geo": {
                      "bgcolor": "white",
                      "lakecolor": "white",
                      "landcolor": "#E5ECF6",
                      "showlakes": true,
                      "showland": true,
                      "subunitcolor": "white"
                    },
                    "hoverlabel": {
                      "align": "left"
                    },
                    "hovermode": "closest",
                    "mapbox": {
                      "style": "light"
                    },
                    "paper_bgcolor": "white",
                    "plot_bgcolor": "#E5ECF6",
                    "polar": {
                      "angularaxis": {
                        "gridcolor": "white",
                        "linecolor": "white",
                        "ticks": ""
                      },
                      "bgcolor": "#E5ECF6",
                      "radialaxis": {
                        "gridcolor": "white",
                        "linecolor": "white",
                        "ticks": ""
                      }
                    },
                    "scene": {
                      "xaxis": {
                        "backgroundcolor": "#E5ECF6",
                        "gridcolor": "white",
                        "gridwidth": 2,
                        "linecolor": "white",
                        "showbackground": true,
                        "ticks": "",
                        "zerolinecolor": "white"
                      },
                      "yaxis": {
                        "backgroundcolor": "#E5ECF6",
                        "gridcolor": "white",
                        "gridwidth": 2,
                        "linecolor": "white",
                        "showbackground": true,
                        "ticks": "",
                        "zerolinecolor": "white"
                      },
                      "zaxis": {
                        "backgroundcolor": "#E5ECF6",
                        "gridcolor": "white",
                        "gridwidth": 2,
                        "linecolor": "white",
                        "showbackground": true,
                        "ticks": "",
                        "zerolinecolor": "white"
                      }
                    },
                    "shapedefaults": {
                      "line": {
                        "color": "#2a3f5f"
                      }
                    },
                    "ternary": {
                      "aaxis": {
                        "gridcolor": "white",
                        "linecolor": "white",
                        "ticks": ""
                      },
                      "baxis": {
                        "gridcolor": "white",
                        "linecolor": "white",
                        "ticks": ""
                      },
                      "bgcolor": "#E5ECF6",
                      "caxis": {
                        "gridcolor": "white",
                        "linecolor": "white",
                        "ticks": ""
                      }
                    },
                    "title": {
                      "x": 0.05
                    },
                    "xaxis": {
                      "automargin": true,
                      "gridcolor": "white",
                      "linecolor": "white",
                      "ticks": "",
                      "title": {
                        "standoff": 15
                      },
                      "zerolinecolor": "white",
                      "zerolinewidth": 2
                    },
                    "yaxis": {
                      "automargin": true,
                      "gridcolor": "white",
                      "linecolor": "white",
                      "ticks": "",
                      "title": {
                        "standoff": 15
                      },
                      "zerolinecolor": "white",
                      "zerolinewidth": 2
                    }
                  }
                },
                "title": {
                  "text": "Top 15 Most Active Users (Interactive)"
                },
                "xaxis": {
                  "anchor": "y",
                  "domain": [
                    0,
                    1
                  ],
                  "title": {
                    "text": "Number of Messages"
                  }
                },
                "yaxis": {
                  "anchor": "x",
                  "categoryorder": "total ascending",
                  "domain": [
                    0,
                    1
                  ],
                  "title": {
                    "text": "User"
                  }
                }
              }
            }
          },
          "metadata": {},
          "output_type": "display_data"
        },
        {
          "data": {
            "application/vnd.plotly.v1+json": {
              "config": {
                "plotlyServerURL": "https://plot.ly"
              },
              "data": [
                {
                  "customdata": [
                    [
                      "Julien Marinica",
                      "2025-05-31T12:54:24.601969"
                    ],
                    [
                      "Julien Marinica",
                      "2025-05-24T14:11:48.763519"
                    ],
                    [
                      "Julien Marinica",
                      "2025-06-17T15:11:19.685209"
                    ],
                    [
                      "Julien Marinica",
                      "2025-06-17T20:11:55.532219"
                    ],
                    [
                      "Julien Marinica",
                      "2025-05-26T22:48:38.607439"
                    ],
                    [
                      "Julien Marinica",
                      "2025-06-16T23:40:59.747749"
                    ],
                    [
                      "Julien Marinica",
                      "2025-05-26T13:59:09.145289"
                    ],
                    [
                      "Julien Marinica",
                      "2025-06-21T00:16:06.796869"
                    ],
                    [
                      "Julien Marinica",
                      "2025-06-07T10:54:38.363149"
                    ],
                    [
                      "Julien Marinica",
                      "2025-05-29T15:30:51.012549"
                    ],
                    [
                      "Julien Marinica",
                      "2025-05-26T11:56:34.098549"
                    ],
                    [
                      "Julien Marinica",
                      "2025-06-17T20:04:18.145199"
                    ],
                    [
                      "Julien Marinica",
                      "2025-06-17T20:01:25.871159"
                    ],
                    [
                      "Julien Marinica",
                      "2025-06-12T23:26:28.774789"
                    ],
                    [
                      "Julien Marinica",
                      "2025-06-13T21:37:52.889099"
                    ],
                    [
                      "Julien Marinica",
                      "2025-05-29T19:51:21.168169"
                    ],
                    [
                      "Julien Marinica",
                      "2025-06-19T11:54:25.229999"
                    ],
                    [
                      "Julien Marinica",
                      "2025-06-19T11:52:18.706359"
                    ],
                    [
                      "Julien Marinica",
                      "2025-05-28T10:20:49.855589"
                    ],
                    [
                      "Julien Marinica",
                      "2025-06-14T21:58:32.778889"
                    ],
                    [
                      "Julien Marinica",
                      "2025-06-18T22:46:56.602479"
                    ],
                    [
                      "Julien Marinica",
                      "2025-06-21T00:36:22.653509"
                    ],
                    [
                      "Julien Marinica",
                      "2025-06-03T14:44:34.587269"
                    ]
                  ],
                  "hovertemplate": "real_name=%{customdata[0]}<br>Word Count=%{x}<br>Reaction Count=%{y}<br>char_count=%{marker.size}<br>datetime=%{customdata[1]}<extra></extra>",
                  "legendgroup": "Julien Marinica",
                  "marker": {
                    "color": "#636efa",
                    "size": {
                      "bdata": "YgHYANgA0QCkACgB5gCMANkAjgGKAPQALgHJAO0A8QCwAOQAkADgALcAXQEZAQ==",
                      "dtype": "i2"
                    },
                    "sizemode": "area",
                    "sizeref": 1.91,
                    "symbol": "circle"
                  },
                  "mode": "markers",
                  "name": "Julien Marinica",
                  "orientation": "v",
                  "showlegend": true,
                  "type": "scatter",
                  "x": {
                    "bdata": "MAkPBg4XHgkJJxANIwYNFAcKCgkOByI=",
                    "dtype": "i1"
                  },
                  "xaxis": "x",
                  "y": {
                    "bdata": "AgMBAQACAwABAQAAAQIBAwABAAEEAQI=",
                    "dtype": "i1"
                  },
                  "yaxis": "y"
                },
                {
                  "customdata": [
                    [
                      "Romain Quilliot",
                      "2025-06-20T21:51:46.553649"
                    ],
                    [
                      "Romain Quilliot",
                      "2025-06-11T15:46:13.819949"
                    ],
                    [
                      "Romain Quilliot",
                      "2025-06-20T19:03:50.764079"
                    ],
                    [
                      "Romain Quilliot",
                      "2025-06-04T18:57:08.835959"
                    ],
                    [
                      "Romain Quilliot",
                      "2025-06-20T13:17:34.475219"
                    ],
                    [
                      "Romain Quilliot",
                      "2025-05-27T11:25:15.712519"
                    ],
                    [
                      "Romain Quilliot",
                      "2025-06-05T09:43:55.692009"
                    ],
                    [
                      "Romain Quilliot",
                      "2025-05-27T23:57:11.726659"
                    ],
                    [
                      "Romain Quilliot",
                      "2025-06-06T09:16:24.054039"
                    ],
                    [
                      "Romain Quilliot",
                      "2025-06-20T22:20:32.304009"
                    ],
                    [
                      "Romain Quilliot",
                      "2025-06-12T12:59:57.138969"
                    ],
                    [
                      "Romain Quilliot",
                      "2025-06-05T00:21:06.110239"
                    ],
                    [
                      "Romain Quilliot",
                      "2025-05-28T21:12:23.322429"
                    ],
                    [
                      "Romain Quilliot",
                      "2025-06-05T15:00:21.533609"
                    ],
                    [
                      "Romain Quilliot",
                      "2025-06-05T23:16:40.428049"
                    ],
                    [
                      "Romain Quilliot",
                      "2025-06-11T12:18:42.955519"
                    ],
                    [
                      "Romain Quilliot",
                      "2025-06-18T08:31:32.705559"
                    ],
                    [
                      "Romain Quilliot",
                      "2025-06-07T19:34:27.438829"
                    ],
                    [
                      "Romain Quilliot",
                      "2025-06-13T16:16:32.500959"
                    ],
                    [
                      "Romain Quilliot",
                      "2025-05-27T10:19:08.330339"
                    ],
                    [
                      "Romain Quilliot",
                      "2025-06-09T13:47:42.043499"
                    ],
                    [
                      "Romain Quilliot",
                      "2025-06-13T23:45:07.283219"
                    ],
                    [
                      "Romain Quilliot",
                      "2025-05-27T17:58:42.984829"
                    ],
                    [
                      "Romain Quilliot",
                      "2025-06-04T19:44:08.857209"
                    ],
                    [
                      "Romain Quilliot",
                      "2025-06-17T08:17:46.929179"
                    ],
                    [
                      "Romain Quilliot",
                      "2025-06-16T19:26:23.712449"
                    ],
                    [
                      "Romain Quilliot",
                      "2025-05-26T11:27:48.620349"
                    ],
                    [
                      "Romain Quilliot",
                      "2025-05-24T21:44:18.180589"
                    ],
                    [
                      "Romain Quilliot",
                      "2025-06-06T07:37:20.981899"
                    ],
                    [
                      "Romain Quilliot",
                      "2025-06-06T07:24:00.013389"
                    ],
                    [
                      "Romain Quilliot",
                      "2025-06-20T22:01:36.576169"
                    ],
                    [
                      "Romain Quilliot",
                      "2025-06-04T23:49:23.795119"
                    ],
                    [
                      "Romain Quilliot",
                      "2025-05-27T10:38:10.130559"
                    ],
                    [
                      "Romain Quilliot",
                      "2025-06-10T21:08:39.409709"
                    ],
                    [
                      "Romain Quilliot",
                      "2025-06-05T00:17:25.119639"
                    ],
                    [
                      "Romain Quilliot",
                      "2025-05-28T18:07:13.754299"
                    ],
                    [
                      "Romain Quilliot",
                      "2025-06-12T22:54:10.181639"
                    ]
                  ],
                  "hovertemplate": "real_name=%{customdata[0]}<br>Word Count=%{x}<br>Reaction Count=%{y}<br>char_count=%{marker.size}<br>datetime=%{customdata[1]}<extra></extra>",
                  "legendgroup": "Romain Quilliot",
                  "marker": {
                    "color": "#EF553B",
                    "size": {
                      "bdata": "bwAnAIUACwAtACwANAB3ADQAhQBAADIA/AIxAC0AfwC4AHEADgAkAG8AbwAvAB8AfwAsALsAxQCAAHsAiAAzAGsA+QBpACQBHwA=",
                      "dtype": "i2"
                    },
                    "sizemode": "area",
                    "sizeref": 1.91,
                    "symbol": "circle"
                  },
                  "mode": "markers",
                  "name": "Romain Quilliot",
                  "orientation": "v",
                  "showlegend": true,
                  "type": "scatter",
                  "x": {
                    "bdata": "AQgBBAEHCgEKAgEHZQsBGQIBAQEBAQgHAQgbBQIBBQkTBQ8uBg==",
                    "dtype": "i1"
                  },
                  "xaxis": "x",
                  "y": {
                    "bdata": "AAEBBQECAwABAgADAgUBCAEDAQAAAQAAAQYCAgABAQEDAAEAAQ==",
                    "dtype": "i1"
                  },
                  "yaxis": "y"
                },
                {
                  "customdata": [
                    [
                      "Antoine Lépée",
                      "2025-06-18T23:29:54.679179"
                    ],
                    [
                      "Antoine Lépée",
                      "2025-05-28T07:31:06.327519"
                    ],
                    [
                      "Antoine Lépée",
                      "2025-06-05T21:58:46.836359"
                    ],
                    [
                      "Antoine Lépée",
                      "2025-06-11T16:07:12.170989"
                    ]
                  ],
                  "hovertemplate": "real_name=%{customdata[0]}<br>Word Count=%{x}<br>Reaction Count=%{y}<br>char_count=%{marker.size}<br>datetime=%{customdata[1]}<extra></extra>",
                  "legendgroup": "Antoine Lépée",
                  "marker": {
                    "color": "#00cc96",
                    "size": {
                      "bdata": "O1lVNg==",
                      "dtype": "i1"
                    },
                    "sizemode": "area",
                    "sizeref": 1.91,
                    "symbol": "circle"
                  },
                  "mode": "markers",
                  "name": "Antoine Lépée",
                  "orientation": "v",
                  "showlegend": true,
                  "type": "scatter",
                  "x": {
                    "bdata": "DAEQCA==",
                    "dtype": "i1"
                  },
                  "xaxis": "x",
                  "y": {
                    "bdata": "AQEAAA==",
                    "dtype": "i1"
                  },
                  "yaxis": "y"
                }
              ],
              "layout": {
                "height": 500,
                "legend": {
                  "itemsizing": "constant",
                  "title": {
                    "text": "real_name"
                  },
                  "tracegroupgap": 0
                },
                "showlegend": false,
                "template": {
                  "data": {
                    "bar": [
                      {
                        "error_x": {
                          "color": "#2a3f5f"
                        },
                        "error_y": {
                          "color": "#2a3f5f"
                        },
                        "marker": {
                          "line": {
                            "color": "#E5ECF6",
                            "width": 0.5
                          },
                          "pattern": {
                            "fillmode": "overlay",
                            "size": 10,
                            "solidity": 0.2
                          }
                        },
                        "type": "bar"
                      }
                    ],
                    "barpolar": [
                      {
                        "marker": {
                          "line": {
                            "color": "#E5ECF6",
                            "width": 0.5
                          },
                          "pattern": {
                            "fillmode": "overlay",
                            "size": 10,
                            "solidity": 0.2
                          }
                        },
                        "type": "barpolar"
                      }
                    ],
                    "carpet": [
                      {
                        "aaxis": {
                          "endlinecolor": "#2a3f5f",
                          "gridcolor": "white",
                          "linecolor": "white",
                          "minorgridcolor": "white",
                          "startlinecolor": "#2a3f5f"
                        },
                        "baxis": {
                          "endlinecolor": "#2a3f5f",
                          "gridcolor": "white",
                          "linecolor": "white",
                          "minorgridcolor": "white",
                          "startlinecolor": "#2a3f5f"
                        },
                        "type": "carpet"
                      }
                    ],
                    "choropleth": [
                      {
                        "colorbar": {
                          "outlinewidth": 0,
                          "ticks": ""
                        },
                        "type": "choropleth"
                      }
                    ],
                    "contour": [
                      {
                        "colorbar": {
                          "outlinewidth": 0,
                          "ticks": ""
                        },
                        "colorscale": [
                          [
                            0,
                            "#0d0887"
                          ],
                          [
                            0.1111111111111111,
                            "#46039f"
                          ],
                          [
                            0.2222222222222222,
                            "#7201a8"
                          ],
                          [
                            0.3333333333333333,
                            "#9c179e"
                          ],
                          [
                            0.4444444444444444,
                            "#bd3786"
                          ],
                          [
                            0.5555555555555556,
                            "#d8576b"
                          ],
                          [
                            0.6666666666666666,
                            "#ed7953"
                          ],
                          [
                            0.7777777777777778,
                            "#fb9f3a"
                          ],
                          [
                            0.8888888888888888,
                            "#fdca26"
                          ],
                          [
                            1,
                            "#f0f921"
                          ]
                        ],
                        "type": "contour"
                      }
                    ],
                    "contourcarpet": [
                      {
                        "colorbar": {
                          "outlinewidth": 0,
                          "ticks": ""
                        },
                        "type": "contourcarpet"
                      }
                    ],
                    "heatmap": [
                      {
                        "colorbar": {
                          "outlinewidth": 0,
                          "ticks": ""
                        },
                        "colorscale": [
                          [
                            0,
                            "#0d0887"
                          ],
                          [
                            0.1111111111111111,
                            "#46039f"
                          ],
                          [
                            0.2222222222222222,
                            "#7201a8"
                          ],
                          [
                            0.3333333333333333,
                            "#9c179e"
                          ],
                          [
                            0.4444444444444444,
                            "#bd3786"
                          ],
                          [
                            0.5555555555555556,
                            "#d8576b"
                          ],
                          [
                            0.6666666666666666,
                            "#ed7953"
                          ],
                          [
                            0.7777777777777778,
                            "#fb9f3a"
                          ],
                          [
                            0.8888888888888888,
                            "#fdca26"
                          ],
                          [
                            1,
                            "#f0f921"
                          ]
                        ],
                        "type": "heatmap"
                      }
                    ],
                    "histogram": [
                      {
                        "marker": {
                          "pattern": {
                            "fillmode": "overlay",
                            "size": 10,
                            "solidity": 0.2
                          }
                        },
                        "type": "histogram"
                      }
                    ],
                    "histogram2d": [
                      {
                        "colorbar": {
                          "outlinewidth": 0,
                          "ticks": ""
                        },
                        "colorscale": [
                          [
                            0,
                            "#0d0887"
                          ],
                          [
                            0.1111111111111111,
                            "#46039f"
                          ],
                          [
                            0.2222222222222222,
                            "#7201a8"
                          ],
                          [
                            0.3333333333333333,
                            "#9c179e"
                          ],
                          [
                            0.4444444444444444,
                            "#bd3786"
                          ],
                          [
                            0.5555555555555556,
                            "#d8576b"
                          ],
                          [
                            0.6666666666666666,
                            "#ed7953"
                          ],
                          [
                            0.7777777777777778,
                            "#fb9f3a"
                          ],
                          [
                            0.8888888888888888,
                            "#fdca26"
                          ],
                          [
                            1,
                            "#f0f921"
                          ]
                        ],
                        "type": "histogram2d"
                      }
                    ],
                    "histogram2dcontour": [
                      {
                        "colorbar": {
                          "outlinewidth": 0,
                          "ticks": ""
                        },
                        "colorscale": [
                          [
                            0,
                            "#0d0887"
                          ],
                          [
                            0.1111111111111111,
                            "#46039f"
                          ],
                          [
                            0.2222222222222222,
                            "#7201a8"
                          ],
                          [
                            0.3333333333333333,
                            "#9c179e"
                          ],
                          [
                            0.4444444444444444,
                            "#bd3786"
                          ],
                          [
                            0.5555555555555556,
                            "#d8576b"
                          ],
                          [
                            0.6666666666666666,
                            "#ed7953"
                          ],
                          [
                            0.7777777777777778,
                            "#fb9f3a"
                          ],
                          [
                            0.8888888888888888,
                            "#fdca26"
                          ],
                          [
                            1,
                            "#f0f921"
                          ]
                        ],
                        "type": "histogram2dcontour"
                      }
                    ],
                    "mesh3d": [
                      {
                        "colorbar": {
                          "outlinewidth": 0,
                          "ticks": ""
                        },
                        "type": "mesh3d"
                      }
                    ],
                    "parcoords": [
                      {
                        "line": {
                          "colorbar": {
                            "outlinewidth": 0,
                            "ticks": ""
                          }
                        },
                        "type": "parcoords"
                      }
                    ],
                    "pie": [
                      {
                        "automargin": true,
                        "type": "pie"
                      }
                    ],
                    "scatter": [
                      {
                        "fillpattern": {
                          "fillmode": "overlay",
                          "size": 10,
                          "solidity": 0.2
                        },
                        "type": "scatter"
                      }
                    ],
                    "scatter3d": [
                      {
                        "line": {
                          "colorbar": {
                            "outlinewidth": 0,
                            "ticks": ""
                          }
                        },
                        "marker": {
                          "colorbar": {
                            "outlinewidth": 0,
                            "ticks": ""
                          }
                        },
                        "type": "scatter3d"
                      }
                    ],
                    "scattercarpet": [
                      {
                        "marker": {
                          "colorbar": {
                            "outlinewidth": 0,
                            "ticks": ""
                          }
                        },
                        "type": "scattercarpet"
                      }
                    ],
                    "scattergeo": [
                      {
                        "marker": {
                          "colorbar": {
                            "outlinewidth": 0,
                            "ticks": ""
                          }
                        },
                        "type": "scattergeo"
                      }
                    ],
                    "scattergl": [
                      {
                        "marker": {
                          "colorbar": {
                            "outlinewidth": 0,
                            "ticks": ""
                          }
                        },
                        "type": "scattergl"
                      }
                    ],
                    "scattermap": [
                      {
                        "marker": {
                          "colorbar": {
                            "outlinewidth": 0,
                            "ticks": ""
                          }
                        },
                        "type": "scattermap"
                      }
                    ],
                    "scattermapbox": [
                      {
                        "marker": {
                          "colorbar": {
                            "outlinewidth": 0,
                            "ticks": ""
                          }
                        },
                        "type": "scattermapbox"
                      }
                    ],
                    "scatterpolar": [
                      {
                        "marker": {
                          "colorbar": {
                            "outlinewidth": 0,
                            "ticks": ""
                          }
                        },
                        "type": "scatterpolar"
                      }
                    ],
                    "scatterpolargl": [
                      {
                        "marker": {
                          "colorbar": {
                            "outlinewidth": 0,
                            "ticks": ""
                          }
                        },
                        "type": "scatterpolargl"
                      }
                    ],
                    "scatterternary": [
                      {
                        "marker": {
                          "colorbar": {
                            "outlinewidth": 0,
                            "ticks": ""
                          }
                        },
                        "type": "scatterternary"
                      }
                    ],
                    "surface": [
                      {
                        "colorbar": {
                          "outlinewidth": 0,
                          "ticks": ""
                        },
                        "colorscale": [
                          [
                            0,
                            "#0d0887"
                          ],
                          [
                            0.1111111111111111,
                            "#46039f"
                          ],
                          [
                            0.2222222222222222,
                            "#7201a8"
                          ],
                          [
                            0.3333333333333333,
                            "#9c179e"
                          ],
                          [
                            0.4444444444444444,
                            "#bd3786"
                          ],
                          [
                            0.5555555555555556,
                            "#d8576b"
                          ],
                          [
                            0.6666666666666666,
                            "#ed7953"
                          ],
                          [
                            0.7777777777777778,
                            "#fb9f3a"
                          ],
                          [
                            0.8888888888888888,
                            "#fdca26"
                          ],
                          [
                            1,
                            "#f0f921"
                          ]
                        ],
                        "type": "surface"
                      }
                    ],
                    "table": [
                      {
                        "cells": {
                          "fill": {
                            "color": "#EBF0F8"
                          },
                          "line": {
                            "color": "white"
                          }
                        },
                        "header": {
                          "fill": {
                            "color": "#C8D4E3"
                          },
                          "line": {
                            "color": "white"
                          }
                        },
                        "type": "table"
                      }
                    ]
                  },
                  "layout": {
                    "annotationdefaults": {
                      "arrowcolor": "#2a3f5f",
                      "arrowhead": 0,
                      "arrowwidth": 1
                    },
                    "autotypenumbers": "strict",
                    "coloraxis": {
                      "colorbar": {
                        "outlinewidth": 0,
                        "ticks": ""
                      }
                    },
                    "colorscale": {
                      "diverging": [
                        [
                          0,
                          "#8e0152"
                        ],
                        [
                          0.1,
                          "#c51b7d"
                        ],
                        [
                          0.2,
                          "#de77ae"
                        ],
                        [
                          0.3,
                          "#f1b6da"
                        ],
                        [
                          0.4,
                          "#fde0ef"
                        ],
                        [
                          0.5,
                          "#f7f7f7"
                        ],
                        [
                          0.6,
                          "#e6f5d0"
                        ],
                        [
                          0.7,
                          "#b8e186"
                        ],
                        [
                          0.8,
                          "#7fbc41"
                        ],
                        [
                          0.9,
                          "#4d9221"
                        ],
                        [
                          1,
                          "#276419"
                        ]
                      ],
                      "sequential": [
                        [
                          0,
                          "#0d0887"
                        ],
                        [
                          0.1111111111111111,
                          "#46039f"
                        ],
                        [
                          0.2222222222222222,
                          "#7201a8"
                        ],
                        [
                          0.3333333333333333,
                          "#9c179e"
                        ],
                        [
                          0.4444444444444444,
                          "#bd3786"
                        ],
                        [
                          0.5555555555555556,
                          "#d8576b"
                        ],
                        [
                          0.6666666666666666,
                          "#ed7953"
                        ],
                        [
                          0.7777777777777778,
                          "#fb9f3a"
                        ],
                        [
                          0.8888888888888888,
                          "#fdca26"
                        ],
                        [
                          1,
                          "#f0f921"
                        ]
                      ],
                      "sequentialminus": [
                        [
                          0,
                          "#0d0887"
                        ],
                        [
                          0.1111111111111111,
                          "#46039f"
                        ],
                        [
                          0.2222222222222222,
                          "#7201a8"
                        ],
                        [
                          0.3333333333333333,
                          "#9c179e"
                        ],
                        [
                          0.4444444444444444,
                          "#bd3786"
                        ],
                        [
                          0.5555555555555556,
                          "#d8576b"
                        ],
                        [
                          0.6666666666666666,
                          "#ed7953"
                        ],
                        [
                          0.7777777777777778,
                          "#fb9f3a"
                        ],
                        [
                          0.8888888888888888,
                          "#fdca26"
                        ],
                        [
                          1,
                          "#f0f921"
                        ]
                      ]
                    },
                    "colorway": [
                      "#636efa",
                      "#EF553B",
                      "#00cc96",
                      "#ab63fa",
                      "#FFA15A",
                      "#19d3f3",
                      "#FF6692",
                      "#B6E880",
                      "#FF97FF",
                      "#FECB52"
                    ],
                    "font": {
                      "color": "#2a3f5f"
                    },
                    "geo": {
                      "bgcolor": "white",
                      "lakecolor": "white",
                      "landcolor": "#E5ECF6",
                      "showlakes": true,
                      "showland": true,
                      "subunitcolor": "white"
                    },
                    "hoverlabel": {
                      "align": "left"
                    },
                    "hovermode": "closest",
                    "mapbox": {
                      "style": "light"
                    },
                    "paper_bgcolor": "white",
                    "plot_bgcolor": "#E5ECF6",
                    "polar": {
                      "angularaxis": {
                        "gridcolor": "white",
                        "linecolor": "white",
                        "ticks": ""
                      },
                      "bgcolor": "#E5ECF6",
                      "radialaxis": {
                        "gridcolor": "white",
                        "linecolor": "white",
                        "ticks": ""
                      }
                    },
                    "scene": {
                      "xaxis": {
                        "backgroundcolor": "#E5ECF6",
                        "gridcolor": "white",
                        "gridwidth": 2,
                        "linecolor": "white",
                        "showbackground": true,
                        "ticks": "",
                        "zerolinecolor": "white"
                      },
                      "yaxis": {
                        "backgroundcolor": "#E5ECF6",
                        "gridcolor": "white",
                        "gridwidth": 2,
                        "linecolor": "white",
                        "showbackground": true,
                        "ticks": "",
                        "zerolinecolor": "white"
                      },
                      "zaxis": {
                        "backgroundcolor": "#E5ECF6",
                        "gridcolor": "white",
                        "gridwidth": 2,
                        "linecolor": "white",
                        "showbackground": true,
                        "ticks": "",
                        "zerolinecolor": "white"
                      }
                    },
                    "shapedefaults": {
                      "line": {
                        "color": "#2a3f5f"
                      }
                    },
                    "ternary": {
                      "aaxis": {
                        "gridcolor": "white",
                        "linecolor": "white",
                        "ticks": ""
                      },
                      "baxis": {
                        "gridcolor": "white",
                        "linecolor": "white",
                        "ticks": ""
                      },
                      "bgcolor": "#E5ECF6",
                      "caxis": {
                        "gridcolor": "white",
                        "linecolor": "white",
                        "ticks": ""
                      }
                    },
                    "title": {
                      "x": 0.05
                    },
                    "xaxis": {
                      "automargin": true,
                      "gridcolor": "white",
                      "linecolor": "white",
                      "ticks": "",
                      "title": {
                        "standoff": 15
                      },
                      "zerolinecolor": "white",
                      "zerolinewidth": 2
                    },
                    "yaxis": {
                      "automargin": true,
                      "gridcolor": "white",
                      "linecolor": "white",
                      "ticks": "",
                      "title": {
                        "standoff": 15
                      },
                      "zerolinecolor": "white",
                      "zerolinewidth": 2
                    }
                  }
                },
                "title": {
                  "text": "Message Characteristics: Word Count vs Reactions"
                },
                "xaxis": {
                  "anchor": "y",
                  "domain": [
                    0,
                    1
                  ],
                  "title": {
                    "text": "Word Count"
                  }
                },
                "yaxis": {
                  "anchor": "x",
                  "domain": [
                    0,
                    1
                  ],
                  "title": {
                    "text": "Reaction Count"
                  }
                }
              }
            }
          },
          "metadata": {},
          "output_type": "display_data"
        }
      ],
      "source": [
        "# Interactive Plotly Dashboard\n",
        "\n",
        "# 1. Interactive timeline of messages\n",
        "daily_counts[\"weekday\"] = pd.to_datetime(daily_counts[\"date\"]).dt.day_name()\n",
        "\n",
        "fig1 = px.line(\n",
        "    daily_counts,\n",
        "    x=\"date\",\n",
        "    y=\"message_count\",\n",
        "    title=\"Interactive Message Timeline\",\n",
        "    labels={\"message_count\": \"Number of Messages\", \"date\": \"Date\"},\n",
        "    hover_data=[\"weekday\"],\n",
        ")\n",
        "fig1.update_layout(height=400)\n",
        "fig1.show()\n",
        "\n",
        "# 2. Interactive heatmap of activity by hour and day\n",
        "if len(df) > 0:\n",
        "    # Create hour vs day heatmap data\n",
        "    pivot_data = df.groupby([\"day_of_week\", \"hour\"]).size().unstack(fill_value=0)\n",
        "    pivot_data = pivot_data.reindex(day_order)\n",
        "\n",
        "    # Ensure all 24 hours are represented as columns\n",
        "    all_hours = list(range(24))\n",
        "    pivot_data = pivot_data.reindex(columns=all_hours, fill_value=0)\n",
        "\n",
        "    fig2 = px.imshow(\n",
        "        pivot_data.values,\n",
        "        x=list(range(24)),\n",
        "        y=day_order,\n",
        "        aspect=\"auto\",\n",
        "        title=\"Activity Heatmap: Messages by Hour and Day\",\n",
        "        labels={\"x\": \"Hour of Day\", \"y\": \"Day of Week\", \"color\": \"Message Count\"},\n",
        "        color_continuous_scale=\"Blues\",\n",
        "    )\n",
        "    fig2.update_layout(height=400)\n",
        "    fig2.show()\n",
        "\n",
        "# 3. Interactive user activity\n",
        "top_15_users = user_stats.head(15).reset_index()\n",
        "top_15_users[\"display_name\"] = top_15_users[\"real_name\"].str[:25]  # Truncate names\n",
        "\n",
        "fig3 = px.bar(\n",
        "    top_15_users,\n",
        "    x=\"Messages\",\n",
        "    y=\"display_name\",\n",
        "    orientation=\"h\",\n",
        "    title=\"Top 15 Most Active Users (Interactive)\",\n",
        "    labels={\"Messages\": \"Number of Messages\", \"display_name\": \"User\"},\n",
        "    hover_data=[\"Total_Words\", \"Avg_Words_per_Message\", \"Total_Reactions\"],\n",
        ")\n",
        "fig3.update_layout(height=600, yaxis={\"categoryorder\": \"total ascending\"})\n",
        "fig3.show()\n",
        "\n",
        "# 4. Message characteristics scatter plot\n",
        "sample_df = human_df.sample(min(1000, len(human_df)))  # Sample for performance\n",
        "\n",
        "fig4 = px.scatter(\n",
        "    sample_df,\n",
        "    x=\"word_count\",\n",
        "    y=\"reaction_count\",\n",
        "    size=\"char_count\",\n",
        "    color=\"real_name\",\n",
        "    title=\"Message Characteristics: Word Count vs Reactions\",\n",
        "    labels={\"word_count\": \"Word Count\", \"reaction_count\": \"Reaction Count\"},\n",
        "    hover_data=[\"real_name\", \"datetime\"],\n",
        ")\n",
        "fig4.update_layout(height=500, showlegend=False)  # Hide legend due to many users\n",
        "fig4.show()\n"
      ]
    },
    {
      "cell_type": "markdown",
      "metadata": {
        "vscode": {
          "languageId": "raw"
        }
      },
      "source": [
        "### Summary and Data Export\n",
        "\n",
        "Generate a comprehensive summary and optionally export the data.\n"
      ]
    },
    {
      "cell_type": "code",
      "execution_count": 14,
      "metadata": {},
      "outputs": [
        {
          "name": "stdout",
          "output_type": "stream",
          "text": [
            "============================================================\n",
            "                 CHANNEL ANALYSIS SUMMARY\n",
            "============================================================\n",
            "\n",
            "📊 OVERVIEW:\n",
            "   • Channel: #fun_pathfinder-veille-et-trashtalks\n",
            "   • Analysis period: 2025-05-24 to 2025-06-23 (31 days)\n",
            "   • Total messages analyzed: 65\n",
            "   • Unique participants: 4\n",
            "\n",
            "📈 ACTIVITY PATTERNS:\n",
            "   • Busiest day: 2025-06-05 (6 messages)\n",
            "   • Peak hour: 21:00 (7 messages)\n",
            "   • Most active weekday: Thursday\n",
            "   • Average daily messages: 2.1\n",
            "\n",
            "👥 TOP CONTRIBUTORS:\n",
            "   • Most active user: Romain Quilliot (37.0 messages)\n",
            "   • Most engaging user: Romain Quilliot (60.0 total reactions)\n",
            "   • Average messages per user: 16.2\n",
            "\n",
            "💬 CONTENT INSIGHTS:\n",
            "   • Average message length: 12.3 words\n",
            "   • Total words exchanged: 800\n",
            "   • Messages with reactions: 70.8%\n",
            "   • Thread conversation rate: 4.6%\n",
            "   • Messages with URLs: 69.2%\n",
            "\n",
            "🎉 Analysis complete! You can re-run any cell above to refresh the analysis or modify parameters.\n",
            "\n",
            "💡 INSIGHTS FOR DEEPER ANALYSIS:\n",
            "   • Consider analyzing message sentiment\n",
            "   • Look for trending topics over time\n",
            "   • Analyze response patterns and user interactions\n",
            "   • Compare activity patterns across different time periods\n",
            "   • Study correlation between message length and engagement\n"
          ]
        }
      ],
      "source": [
        "# Generate comprehensive summary\n",
        "print(\"=\" * 60)\n",
        "print(\"                 CHANNEL ANALYSIS SUMMARY\")\n",
        "print(\"=\" * 60)\n",
        "\n",
        "# Basic stats\n",
        "print(\"\\n📊 OVERVIEW:\")\n",
        "print(f\"   • Channel: #{channel_info['name'] if channel_info else 'Unknown'}\")\n",
        "print(\n",
        "    f\"   • Analysis period: {df['date'].min()} to {df['date'].max()} ({date_range} days)\"\n",
        ")\n",
        "print(f\"   • Total messages analyzed: {len(df):,}\")\n",
        "print(f\"   • Unique participants: {df['user_id'].nunique()}\")\n",
        "\n",
        "# Activity patterns\n",
        "busiest_day = daily_counts.loc[daily_counts[\"message_count\"].idxmax()]\n",
        "busiest_hour = df.groupby(\"hour\").size().idxmax()\n",
        "busiest_weekday = df.groupby(\"day_of_week\").size().idxmax()\n",
        "\n",
        "print(\"\\n📈 ACTIVITY PATTERNS:\")\n",
        "print(\n",
        "    f\"   • Busiest day: {busiest_day['date']} ({busiest_day['message_count']} messages)\"\n",
        ")\n",
        "print(f\"   • Peak hour: {busiest_hour}:00 ({df.groupby('hour').size().max()} messages)\")\n",
        "print(f\"   • Most active weekday: {busiest_weekday}\")\n",
        "print(f\"   • Average daily messages: {avg_messages_per_day:.1f}\")\n",
        "\n",
        "# User engagement\n",
        "most_active_user = user_stats.index[0][1] if len(user_stats) > 0 else \"Unknown\"\n",
        "most_reacted_user = (\n",
        "    user_stats.sort_values(\"Total_Reactions\", ascending=False).index[0][1]\n",
        "    if len(user_stats) > 0\n",
        "    else \"Unknown\"\n",
        ")\n",
        "\n",
        "print(\"\\n👥 TOP CONTRIBUTORS:\")\n",
        "print(\n",
        "    f\"   • Most active user: {most_active_user} ({user_stats.iloc[0]['Messages']} messages)\"\n",
        ")\n",
        "print(\n",
        "    f\"   • Most engaging user: {most_reacted_user} ({user_stats.sort_values('Total_Reactions', ascending=False).iloc[0]['Total_Reactions']} total reactions)\"\n",
        ")\n",
        "print(f\"   • Average messages per user: {avg_messages_per_user:.1f}\")\n",
        "\n",
        "# Content insights\n",
        "print(\"\\n💬 CONTENT INSIGHTS:\")\n",
        "print(f\"   • Average message length: {df['word_count'].mean():.1f} words\")\n",
        "print(f\"   • Total words exchanged: {df['word_count'].sum():,}\")\n",
        "print(f\"   • Messages with reactions: {(df['reaction_count'] > 0).mean() * 100:.1f}%\")\n",
        "print(f\"   • Thread conversation rate: {df['is_thread_reply'].mean() * 100:.1f}%\")\n",
        "print(f\"   • Messages with URLs: {df['has_urls'].mean() * 100:.1f}%\")\n",
        "\n",
        "print(\n",
        "    \"\\n🎉 Analysis complete! You can re-run any cell above to refresh the analysis or modify parameters.\"\n",
        ")\n",
        "\n",
        "# Quick insights for future analysis\n",
        "print(\"\\n💡 INSIGHTS FOR DEEPER ANALYSIS:\")\n",
        "print(\"   • Consider analyzing message sentiment\")\n",
        "print(\"   • Look for trending topics over time\")\n",
        "print(\"   • Analyze response patterns and user interactions\")\n",
        "print(\"   • Compare activity patterns across different time periods\")\n",
        "print(\"   • Study correlation between message length and engagement\")\n"
      ]
    },
    {
      "cell_type": "code",
      "execution_count": null,
      "metadata": {},
      "outputs": [],
      "source": []
    }
  ],
  "metadata": {
    "kernelspec": {
      "display_name": ".venv",
      "language": "python",
      "name": "python3"
    },
    "language_info": {
      "codemirror_mode": {
        "name": "ipython",
        "version": 3
      },
      "file_extension": ".py",
      "mimetype": "text/x-python",
      "name": "python",
      "nbconvert_exporter": "python",
      "pygments_lexer": "ipython3",
      "version": "3.12.8"
    }
  },
  "nbformat": 4,
  "nbformat_minor": 2
}
